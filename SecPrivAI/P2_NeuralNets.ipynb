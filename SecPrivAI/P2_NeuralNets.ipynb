{
 "cells": [
  {
   "cell_type": "markdown",
   "metadata": {},
   "source": [
    "# Neural networks with PyTorch\n",
    "\n",
    "Deep learning networks tend to be massive with dozens or hundreds of layers, that's where the term \"deep\" comes from. You can build one of these deep networks using only weight matrices as we did in the previous notebook, but in general it's very cumbersome and difficult to implement. PyTorch has a nice module `nn` that provides a nice way to efficiently build large neural networks."
   ]
  },
  {
   "cell_type": "code",
   "execution_count": 1,
   "metadata": {},
   "outputs": [],
   "source": [
    "# Import necessary packages\n",
    "import math\n",
    "import numpy as np  # numpy numeric package\n",
    "\n",
    "import matplotlib.pyplot as plt # Plot utilities lib\n",
    "\n",
    "import helper # helper.py functions"
   ]
  },
  {
   "cell_type": "code",
   "execution_count": 2,
   "metadata": {},
   "outputs": [],
   "source": [
    "import torch  # torch package\n",
    "\n",
    "from torchvision import datasets, transforms  # Import torchvision utilities"
   ]
  },
  {
   "cell_type": "code",
   "execution_count": 3,
   "metadata": {},
   "outputs": [
    {
     "data": {
      "text/plain": [
       "'0.4.0'"
      ]
     },
     "execution_count": 3,
     "metadata": {},
     "output_type": "execute_result"
    }
   ],
   "source": [
    "torch.__version__"
   ]
  },
  {
   "cell_type": "code",
   "execution_count": 4,
   "metadata": {},
   "outputs": [
    {
     "data": {
      "text/html": [
       "<style>.container { width:100% !important; }</style>"
      ],
      "text/plain": [
       "<IPython.core.display.HTML object>"
      ]
     },
     "metadata": {},
     "output_type": "display_data"
    }
   ],
   "source": [
    "from IPython.core.display import display, HTML\n",
    "display(HTML(\"<style>.container { width:100% !important; }</style>\")) # Width 100% of notebook."
   ]
  },
  {
   "cell_type": "code",
   "execution_count": 5,
   "metadata": {},
   "outputs": [],
   "source": [
    "torch.set_printoptions(linewidth=155, precision=4) # Display options to tensor values"
   ]
  },
  {
   "cell_type": "code",
   "execution_count": 6,
   "metadata": {},
   "outputs": [],
   "source": [
    "np.set_printoptions(linewidth= 155, precision=3)"
   ]
  },
  {
   "cell_type": "code",
   "execution_count": 7,
   "metadata": {},
   "outputs": [
    {
     "name": "stderr",
     "output_type": "stream",
     "text": [
      "UsageError: unrecognized arguments: # When it is called once, all figures in the notebook will be inline\n"
     ]
    }
   ],
   "source": [
    "%matplotlib inline # When it is called once, all figures in the notebook will be inline"
   ]
  },
  {
   "cell_type": "code",
   "execution_count": 8,
   "metadata": {},
   "outputs": [],
   "source": [
    "%config InlineBackend.figure_format = 'retina' # Definition of displayed plot is a bit better: retina quality"
   ]
  },
  {
   "cell_type": "markdown",
   "metadata": {},
   "source": [
    "Sigmoid Function\n",
    "$$\n",
    "\\Large S (x) =  \\frac{\\mathrm{1} }{\\mathrm{1} + e^{- x }}\n",
    "$$ "
   ]
  },
  {
   "cell_type": "code",
   "execution_count": 9,
   "metadata": {},
   "outputs": [
    {
     "name": "stdout",
     "output_type": "stream",
     "text": [
      "-6.0 \t-> 0.00247262315663\n",
      "-5.1 \t-> 0.00605980149158\n",
      "-4.2 \t-> 0.0147740316933\n",
      "-3.3 \t-> 0.0355711892726\n",
      "-2.4 \t-> 0.0831726964939\n",
      "-1.5 \t-> 0.182425523806\n",
      "-0.6 \t-> 0.354343693774\n",
      "0.3 \t-> 0.574442516812\n",
      "1.2 \t-> 0.768524783499\n",
      "2.1 \t-> 0.890903178804\n",
      "3.0 \t-> 0.952574126822\n",
      "3.9 \t-> 0.980159694266\n",
      "4.8 \t-> 0.991837428847\n",
      "5.7 \t-> 0.996665192693\n",
      "range(-60, 61, 9)\n",
      "[-6.  -5.1 -4.2 -3.3 -2.4 -1.5 -0.6  0.3  1.2  2.1  3.   3.9  4.8  5.7]\n",
      "[ 0.002  0.006  0.015  0.036  0.083  0.182  0.354  0.574  0.769  0.891  0.953  0.98   0.992  0.997]\n"
     ]
    },
    {
     "data": {
      "image/png": "[encoded data removed]",
      "text/plain": [
       "<matplotlib.figure.Figure at 0x7fd5da117438>"
      ]
     },
     "metadata": {
      "image/png": {
       "height": 250,
       "width": 373
      },
      "needs_background": "light"
     },
     "output_type": "display_data"
    }
   ],
   "source": [
    "# Activation function for torch.nn\n",
    "def sigmoid_tch(x):\n",
    "    return 1/(1 + torch.exp(-x))\n",
    "\n",
    "\n",
    "\n",
    "def sigmoid_np(x):\n",
    "    return 1/(1 + np.exp(-x))\n",
    "\n",
    "# Example of sigmoid function squeeze values\n",
    "rango = range(-60,61,9)\n",
    "for gr in rango:\n",
    "    print(gr/10,'\\t->',sigmoid_np(gr/10))\n",
    "\n",
    "t1 = np.arange(-60, 61, 9)\n",
    "plt.plot(t1/10, 1/(1+ np.exp(-t1/10)), '-')\n",
    "print(rango)\n",
    "print(t1/10)\n",
    "print(sigmoid_np(t1/10))\n",
    "\n"
   ]
  },
  {
   "cell_type": "markdown",
   "metadata": {},
   "source": [
    "Softmax function\n",
    "$$\n",
    "\\Large \\sigma(x_i) = \\cfrac{e^{x_i}}{\\sum_k^K{e^{x_k}}}\n",
    "$$"
   ]
  },
  {
   "cell_type": "code",
   "execution_count": 10,
   "metadata": {},
   "outputs": [
    {
     "name": "stdout",
     "output_type": "stream",
     "text": [
      "z    =  [1.0, 2.0, 3.0, 4.0, 1.0, 2.0, 3.0]\n",
      "z_exp= [2.7, 7.4, 20.1, 54.6, 2.7, 7.4, 20.1]\n",
      "sum_z_exp= 114.98\n",
      "softmax = z_exp/sum_z_exp = [0.024, 0.064, 0.175, 0.475, 0.024, 0.064, 0.175]\n"
     ]
    }
   ],
   "source": [
    "z = [1.0, 2.0, 3.0, 4.0, 1.0, 2.0, 3.0]\n",
    "print('z    = ', z)\n",
    "z_exp = [math.exp(i) for i in z]\n",
    "print('z_exp=',[round(i, 1) for i in z_exp])\n",
    "#[2.72, 7.39, 20.09, 54.6, 2.72, 7.39, 20.09]\n",
    "sum_z_exp = sum(z_exp)\n",
    "print('sum_z_exp=',round(sum_z_exp, 2))\n",
    "#114.98\n",
    "softmax = [round(i / sum_z_exp, 3) for i in z_exp]\n",
    "print('softmax = z_exp/sum_z_exp =',softmax)\n",
    "#[0.024, 0.064, 0.175, 0.475, 0.024, 0.064, 0.175]"
   ]
  },
  {
   "cell_type": "markdown",
   "metadata": {},
   "source": [
    "\n",
    "Now we're going to build a larger network that can solve a (formerly) difficult problem, identifying text in an image. Here we'll use the MNIST dataset which consists of greyscale handwritten digits. Each image is 28x28 pixels, you can see a sample below\n",
    "\n",
    "<img src='assets/mnist.png'>\n",
    "\n",
    "<H3>Our goal is to build a neural network that can take one of these images and predict the digit in the image</H3>"
   ]
  },
  {
   "cell_type": "markdown",
   "metadata": {},
   "source": [
    "<h2>\n",
    "<font color=\"#3333FF\">FILE FORMATS FOR THE MNIST DATABASE</font></h2>\n",
    "The data is stored in a very simple file format designed for storing vectors\n",
    "and multidimensional matrices. General info on this format is given at\n",
    "the end of this page, but you don't need to read that to use the data files.\n",
    "\n",
    "<p>All the integers in the files are stored in the MSB first (high endian)\n",
    "format used by most non-Intel processors. Users of Intel processors and\n",
    "other low-endian machines must flip the bytes of the header.\n",
    "\n",
    "</p><p>There are 4 files:<tt></tt>\n",
    "\n",
    "</p><p><tt>train-images-idx3-ubyte: training set images</tt>\n",
    "<br><tt>train-labels-idx1-ubyte: training set labels</tt>\n",
    "<br><tt>t10k-images-idx3-ubyte:&nbsp; test set images</tt>\n",
    "<br><tt>t10k-labels-idx1-ubyte:&nbsp; test set labels</tt>\n",
    "\n",
    "</p><p>The training set contains 60000 examples, and the test set 10000 examples.\n",
    "\n",
    "</p><p>The first 5000 examples of the test set are taken from the original\n",
    "NIST training set. The last 5000 are taken from the original NIST test\n",
    "set. The first 5000 are cleaner and easier than the last 5000.\n",
    "</p><h3>\n",
    "TRAINING SET LABEL FILE (train-labels-idx1-ubyte):</h3>\n",
    "<tt>[offset] [type]&nbsp;&nbsp;&nbsp;&nbsp;&nbsp;&nbsp;&nbsp;&nbsp;&nbsp;\n",
    "[value]&nbsp;&nbsp;&nbsp;&nbsp;&nbsp;&nbsp;&nbsp;&nbsp;&nbsp; [description]</tt>\n",
    "<br><tt>0000&nbsp;&nbsp;&nbsp;&nbsp; 32 bit integer&nbsp; 0x00000801(2049)\n",
    "magic number (MSB first)</tt>\n",
    "<br><tt>0004&nbsp;&nbsp;&nbsp;&nbsp; 32 bit integer&nbsp; 60000&nbsp;&nbsp;&nbsp;&nbsp;&nbsp;&nbsp;&nbsp;&nbsp;&nbsp;&nbsp;&nbsp;\n",
    "number of items</tt>\n",
    "<br><tt>0008&nbsp;&nbsp;&nbsp;&nbsp; unsigned byte&nbsp;&nbsp; ??&nbsp;&nbsp;&nbsp;&nbsp;&nbsp;&nbsp;&nbsp;&nbsp;&nbsp;&nbsp;&nbsp;&nbsp;&nbsp;&nbsp;\n",
    "label</tt>\n",
    "<br><tt>0009&nbsp;&nbsp;&nbsp;&nbsp; unsigned byte&nbsp;&nbsp; ??&nbsp;&nbsp;&nbsp;&nbsp;&nbsp;&nbsp;&nbsp;&nbsp;&nbsp;&nbsp;&nbsp;&nbsp;&nbsp;&nbsp;\n",
    "label</tt>\n",
    "<br><tt>........</tt>\n",
    "<br><tt>xxxx&nbsp;&nbsp;&nbsp;&nbsp; unsigned byte&nbsp;&nbsp; ??&nbsp;&nbsp;&nbsp;&nbsp;&nbsp;&nbsp;&nbsp;&nbsp;&nbsp;&nbsp;&nbsp;&nbsp;&nbsp;&nbsp;\n",
    "label</tt>\n",
    "\n",
    "<p><tt>The labels values are 0 to 9.</tt>\n",
    "</p><h3>\n",
    "TRAINING SET IMAGE FILE (train-images-idx3-ubyte):</h3>\n",
    "<tt>[offset] [type]&nbsp;&nbsp;&nbsp;&nbsp;&nbsp;&nbsp;&nbsp;&nbsp;&nbsp;\n",
    "[value]&nbsp;&nbsp;&nbsp;&nbsp;&nbsp;&nbsp;&nbsp;&nbsp;&nbsp; [description]</tt>\n",
    "<br><tt>0000&nbsp;&nbsp;&nbsp;&nbsp; 32 bit integer&nbsp; 0x00000803(2051)\n",
    "magic number</tt>\n",
    "<br><tt>0004&nbsp;&nbsp;&nbsp;&nbsp; 32 bit integer&nbsp; 60000&nbsp;&nbsp;&nbsp;&nbsp;&nbsp;&nbsp;&nbsp;&nbsp;&nbsp;&nbsp;&nbsp;\n",
    "number of images</tt>\n",
    "<br><tt>0008&nbsp;&nbsp;&nbsp;&nbsp; 32 bit integer&nbsp; 28&nbsp;&nbsp;&nbsp;&nbsp;&nbsp;&nbsp;&nbsp;&nbsp;&nbsp;&nbsp;&nbsp;&nbsp;&nbsp;&nbsp;\n",
    "number of rows</tt>\n",
    "<br><tt>0012&nbsp;&nbsp;&nbsp;&nbsp; 32 bit integer&nbsp; 28&nbsp;&nbsp;&nbsp;&nbsp;&nbsp;&nbsp;&nbsp;&nbsp;&nbsp;&nbsp;&nbsp;&nbsp;&nbsp;&nbsp;\n",
    "number of columns</tt>\n",
    "<br><tt>0016&nbsp;&nbsp;&nbsp;&nbsp; unsigned byte&nbsp;&nbsp; ??&nbsp;&nbsp;&nbsp;&nbsp;&nbsp;&nbsp;&nbsp;&nbsp;&nbsp;&nbsp;&nbsp;&nbsp;&nbsp;&nbsp;\n",
    "pixel</tt>\n",
    "<br><tt>0017&nbsp;&nbsp;&nbsp;&nbsp; unsigned byte&nbsp;&nbsp; ??&nbsp;&nbsp;&nbsp;&nbsp;&nbsp;&nbsp;&nbsp;&nbsp;&nbsp;&nbsp;&nbsp;&nbsp;&nbsp;&nbsp;\n",
    "pixel</tt>\n",
    "<br><tt>........</tt>\n",
    "<br><tt>xxxx&nbsp;&nbsp;&nbsp;&nbsp; unsigned byte&nbsp;&nbsp; ??&nbsp;&nbsp;&nbsp;&nbsp;&nbsp;&nbsp;&nbsp;&nbsp;&nbsp;&nbsp;&nbsp;&nbsp;&nbsp;&nbsp;\n",
    "pixel</tt>\n",
    "\n",
    "<p>Pixels are organized row-wise. Pixel values are 0 to 255. 0 means background\n",
    "(white), 255 means foreground (black).\n",
    "</p><h3>\n",
    "TEST SET LABEL FILE (t10k-labels-idx1-ubyte):</h3>\n",
    "<tt>[offset] [type]&nbsp;&nbsp;&nbsp;&nbsp;&nbsp;&nbsp;&nbsp;&nbsp;&nbsp;\n",
    "[value]&nbsp;&nbsp;&nbsp;&nbsp;&nbsp;&nbsp;&nbsp;&nbsp;&nbsp; [description]</tt>\n",
    "<br><tt>0000&nbsp;&nbsp;&nbsp;&nbsp; 32 bit integer&nbsp; 0x00000801(2049)\n",
    "magic number (MSB first)</tt>\n",
    "<br><tt>0004&nbsp;&nbsp;&nbsp;&nbsp; 32 bit integer&nbsp; 10000&nbsp;&nbsp;&nbsp;&nbsp;&nbsp;&nbsp;&nbsp;&nbsp;&nbsp;&nbsp;&nbsp;\n",
    "number of items</tt>\n",
    "<br><tt>0008&nbsp;&nbsp;&nbsp;&nbsp; unsigned byte&nbsp;&nbsp; ??&nbsp;&nbsp;&nbsp;&nbsp;&nbsp;&nbsp;&nbsp;&nbsp;&nbsp;&nbsp;&nbsp;&nbsp;&nbsp;&nbsp;\n",
    "label</tt>\n",
    "<br><tt>0009&nbsp;&nbsp;&nbsp;&nbsp; unsigned byte&nbsp;&nbsp; ??&nbsp;&nbsp;&nbsp;&nbsp;&nbsp;&nbsp;&nbsp;&nbsp;&nbsp;&nbsp;&nbsp;&nbsp;&nbsp;&nbsp;\n",
    "label</tt>\n",
    "<br><tt>........</tt>\n",
    "<br><tt>xxxx&nbsp;&nbsp;&nbsp;&nbsp; unsigned byte&nbsp;&nbsp; ??&nbsp;&nbsp;&nbsp;&nbsp;&nbsp;&nbsp;&nbsp;&nbsp;&nbsp;&nbsp;&nbsp;&nbsp;&nbsp;&nbsp;\n",
    "label</tt>\n",
    "\n",
    "<p>The labels values are 0 to 9.\n",
    "</p><h3>\n",
    "TEST SET IMAGE FILE (t10k-images-idx3-ubyte):</h3>\n",
    "<tt>[offset] [type]&nbsp;&nbsp;&nbsp;&nbsp;&nbsp;&nbsp;&nbsp;&nbsp;&nbsp;\n",
    "[value]&nbsp;&nbsp;&nbsp;&nbsp;&nbsp;&nbsp;&nbsp;&nbsp;&nbsp; [description]</tt>\n",
    "<br><tt>0000&nbsp;&nbsp;&nbsp;&nbsp; 32 bit integer&nbsp; 0x00000803(2051)\n",
    "magic number</tt>\n",
    "<br><tt>0004&nbsp;&nbsp;&nbsp;&nbsp; 32 bit integer&nbsp; 10000&nbsp;&nbsp;&nbsp;&nbsp;&nbsp;&nbsp;&nbsp;&nbsp;&nbsp;&nbsp;&nbsp;\n",
    "number of images</tt>\n",
    "<br><tt>0008&nbsp;&nbsp;&nbsp;&nbsp; 32 bit integer&nbsp; 28&nbsp;&nbsp;&nbsp;&nbsp;&nbsp;&nbsp;&nbsp;&nbsp;&nbsp;&nbsp;&nbsp;&nbsp;&nbsp;&nbsp;\n",
    "number of rows</tt>\n",
    "<br><tt>0012&nbsp;&nbsp;&nbsp;&nbsp; 32 bit integer&nbsp; 28&nbsp;&nbsp;&nbsp;&nbsp;&nbsp;&nbsp;&nbsp;&nbsp;&nbsp;&nbsp;&nbsp;&nbsp;&nbsp;&nbsp;\n",
    "number of columns</tt>\n",
    "<br><tt>0016&nbsp;&nbsp;&nbsp;&nbsp; unsigned byte&nbsp;&nbsp; ??&nbsp;&nbsp;&nbsp;&nbsp;&nbsp;&nbsp;&nbsp;&nbsp;&nbsp;&nbsp;&nbsp;&nbsp;&nbsp;&nbsp;\n",
    "pixel</tt>\n",
    "<br><tt>0017&nbsp;&nbsp;&nbsp;&nbsp; unsigned byte&nbsp;&nbsp; ??&nbsp;&nbsp;&nbsp;&nbsp;&nbsp;&nbsp;&nbsp;&nbsp;&nbsp;&nbsp;&nbsp;&nbsp;&nbsp;&nbsp;\n",
    "pixel</tt>\n",
    "<br><tt>........</tt>\n",
    "<br><tt>xxxx&nbsp;&nbsp;&nbsp;&nbsp; unsigned byte&nbsp;&nbsp; ??&nbsp;&nbsp;&nbsp;&nbsp;&nbsp;&nbsp;&nbsp;&nbsp;&nbsp;&nbsp;&nbsp;&nbsp;&nbsp;&nbsp;\n",
    "pixel</tt>\n",
    "\n",
    "<p>Pixels are organized row-wise. Pixel values are 0 to 255. 0 means background\n",
    "(white), 255 means foreground (black).\n",
    "<br>&nbsp;\n",
    "<br>\n",
    "</p><hr width=\"100%\">\n",
    "<h2>\n",
    "<font color=\"#3333FF\">THE IDX FILE FORMAT</font></h2>\n",
    "the IDX file format is a simple format for vectors and multidimensional\n",
    "matrices of various numerical types.\n",
    "\n",
    "<p>The basic format is\n",
    "\n",
    "</p><p><tt>magic number</tt>\n",
    "<br><tt>size in dimension 0</tt>\n",
    "<br><tt>size in dimension 1</tt>\n",
    "<br><tt>size in dimension 2</tt>\n",
    "<br><tt>.....</tt>\n",
    "<br><tt>size in dimension N</tt>\n",
    "<br><tt>data</tt>\n",
    "\n",
    "</p><p>The magic number is an integer (MSB first). The first 2 bytes are always\n",
    "0.\n",
    "\n",
    "</p><p>The third byte codes the type of the data:\n",
    "<br>0x08: unsigned byte\n",
    "<br>0x09: signed byte\n",
    "<br>0x0B: short (2 bytes)\n",
    "<br>0x0C: int (4 bytes)\n",
    "<br>0x0D: float (4 bytes)\n",
    "<br>0x0E: double (8 bytes)\n",
    "\n",
    "</p><p>The 4-th byte codes the number of dimensions of the vector/matrix: 1\n",
    "for vectors, 2 for matrices....\n",
    "\n",
    "</p><p>The sizes in each dimension are 4-byte integers (MSB first, high endian,\n",
    "like in most non-Intel processors).\n",
    "\n",
    "</p><p>The data is stored like in a C array, i.e. the index in the last dimension\n",
    "changes the fastest.\n",
    "</p><p>"
   ]
  },
  {
   "cell_type": "markdown",
   "metadata": {},
   "source": [
    "First up, we need to get our dataset. This is provided through the `torchvision` package. The code below will download the MNIST dataset, then create training and test datasets for us. Don't worry too much about the details here, you'll learn more about this later."
   ]
  },
  {
   "cell_type": "code",
   "execution_count": 11,
   "metadata": {},
   "outputs": [],
   "source": [
    "### Run this cell to import torchvision utilities. Previous call at start.\n",
    "#from torchvision import datasets, transforms"
   ]
  },
  {
   "cell_type": "markdown",
   "metadata": {},
   "source": [
    "The dataset is solely responsible for the abstraction of the data.\n",
    "Only one piece of information or sample is returned at any time.\n",
    "\n",
    "In Pytorch, the dataset is abstracted in the torch.utils.data.Dataset class, which should be inherent to all datasets, and overwrite __len__ (Len (obj) is equivalent to __len__ ()) that returns the number of samples, __getitem__ (Obj [index] is equivalent to obj .__ getitem__) that returns a sample. This function will be called in parallel when we have multi-process acceleration. That is why the dataset should only include read-only objects."
   ]
  },
  {
   "cell_type": "code",
   "execution_count": 12,
   "metadata": {},
   "outputs": [],
   "source": [
    "# Define a transform to normalize the data (probability),(distribution)\n",
    "transform = transforms.Compose([transforms.ToTensor(),\n",
    "                              transforms.Normalize((0.5,), (0.5,)),\n",
    "                              ])"
   ]
  },
  {
   "cell_type": "markdown",
   "metadata": {},
   "source": [
    " Las transformaciones de imágenes comunes se pueden encadenar con torchvision.transforms.Compose, desde una lista de transformaciones.<hr>\n",
    " Una de las mas comunes es la normalización, donde se pasa una lista de medias y de desviaciones estándar, donde el canal de entrada se asocia al valor del canal menos la media, todo ello dividido por la desvíacion estándar de los valores del canal.<hr>\n",
    " Restando la media, centramos los datos alrededor de cero, y dividiendo por la desviacion estandar aplastamos los valores para que estén entre -1 y +1. Esta operación de normalización nos ayuda a mantener los pesos de trabajo en la red cerca del cero, manteniendo la propagación hacia atrás mas estable. Sin normalización las redes tienden a fallar en  el proceso de aprendizaje.</pre>"
   ]
  },
  {
   "cell_type": "code",
   "execution_count": 13,
   "metadata": {},
   "outputs": [
    {
     "data": {
      "text/plain": [
       "Compose(\n",
       "    ToTensor()\n",
       "    Normalize(mean=(0.5,), std=(0.5,))\n",
       ")"
      ]
     },
     "execution_count": 13,
     "metadata": {},
     "output_type": "execute_result"
    }
   ],
   "source": [
    "transform"
   ]
  },
  {
   "cell_type": "code",
   "execution_count": 14,
   "metadata": {
    "scrolled": false
   },
   "outputs": [],
   "source": [
    "# Download the training data. Carga dataset en clase abstracta, descargándolos, generando carpeta de train,\n",
    "# aplicando transformación.\n",
    "trainset = datasets.MNIST('~/.pytorch/MNIST_data/', download=True, train=True, transform=transform)"
   ]
  },
  {
   "cell_type": "code",
   "execution_count": 15,
   "metadata": {},
   "outputs": [
    {
     "data": {
      "text/plain": [
       "Dataset MNIST\n",
       "    Number of datapoints: 60000\n",
       "    Split: train\n",
       "    Root Location: /root/.pytorch/MNIST_data/\n",
       "    Transforms (if any): Compose(\n",
       "                             ToTensor()\n",
       "                             Normalize(mean=(0.5,), std=(0.5,))\n",
       "                         )\n",
       "    Target Transforms (if any): None"
      ]
     },
     "execution_count": 15,
     "metadata": {},
     "output_type": "execute_result"
    }
   ],
   "source": [
    "trainset"
   ]
  },
  {
   "cell_type": "markdown",
   "metadata": {},
   "source": [
    "### Section kernel commands"
   ]
  },
  {
   "cell_type": "markdown",
   "metadata": {},
   "source": [
    "### Trainloader"
   ]
  },
  {
   "cell_type": "code",
   "execution_count": 16,
   "metadata": {},
   "outputs": [],
   "source": [
    "# load the training data. Usa lotes de 64 imágenes\n",
    "trainloader = torch.utils.data.DataLoader(trainset, batch_size=64, shuffle=True)"
   ]
  },
  {
   "cell_type": "markdown",
   "metadata": {},
   "source": [
    "### Section kernel commands"
   ]
  },
  {
   "cell_type": "markdown",
   "metadata": {},
   "source": [
    "We have the training data loaded into `trainloader` and we make that an iterator with `iter(trainloader)`. Later, we'll use this to loop through the dataset for training, like\n",
    "\n",
    "```python\n",
    "for image, label in trainloader:\n",
    "    ## do things with images and labels\n",
    "```\n",
    "\n",
    "You'll notice I created the `trainloader` with a batch size of 64, and `shuffle=True`. The batch size is the number of images we get in one iteration from the data loader and pass through our network, often called a *batch*. And `shuffle=True` tells it to shuffle the dataset every time we start going through the data loader again. But here I'm just grabbing the first batch so we can check out the data. We can see below that `images` is just a tensor with size `(64, 1, 28, 28)`. So, 64 images per batch, 1 color channel, and 28x28 images."
   ]
  },
  {
   "cell_type": "code",
   "execution_count": 17,
   "metadata": {},
   "outputs": [],
   "source": [
    "dataiter = iter(trainloader)"
   ]
  },
  {
   "cell_type": "code",
   "execution_count": 18,
   "metadata": {},
   "outputs": [],
   "source": [
    "images, labels = dataiter.next()"
   ]
  },
  {
   "cell_type": "code",
   "execution_count": 19,
   "metadata": {},
   "outputs": [
    {
     "name": "stdout",
     "output_type": "stream",
     "text": [
      "<class 'torch.Tensor'>\n",
      "torch.Size([64, 1, 28, 28])\n",
      "torch.Size([64])\n",
      "tensor([ 9,  6,  3,  9,  0,  8,  7,  0,  3,  9,  2,  3,  4,  9,  4,  0,  7,  1,  0,  0,  0,  9,  5,  4,  1,  0,  4,  2,  6,\n",
      "         1,  8,  1,  2,  9,  9,  9,  8,  5,  1,  8,  9,  1,  3,  2,  5,  4,  6,  6,  1,  0,  5,  3,  1,  7,  9,  7,  4,  3,\n",
      "         1,  6,  4,  7,  9,  0])\n",
      "tensor([[-1, -1, -1, -1, -1, -1, -1, -1, -1, -1, -1, -1, -1, -1, -1, -1, -1, -1, -1, -1, -1, -1, -1, -1],\n",
      "        [-1, -1, -1, -1, -1, -1, -1, -1, -1, -1, -1, -1, -1, -1, -1, -1, -1, -1, -1, -1, -1, -1, -1, -1],\n",
      "        [-1, -1, -1, -1, -1, -1, -1, -1, -1, -1, -1, -1, -1, -1, -1, -1, -1, -1, -1, -1, -1, -1, -1, -1],\n",
      "        [-1, -1, -1, -1, -1, -1, -1, -1, -1, -1, -1, -1, -1, -1, -1, -1, -1, -1, -1, -1, -1, -1, -1, -1],\n",
      "        [-1, -1, -1, -1, -1, -1, -1, -1, -1, -1, -1, -1, -1, -1, -1, -1, -1, -1, -1, -1, -1, -1, -1, -1],\n",
      "        [-1, -1, -1, -1, -1, -1, -1, -1, -1, -1, -1, -1, -1, -1, -1, -1, -1, -1, -1, -1, -1, -1, -1, -1],\n",
      "        [-1, -1, -1, -1, -1, -1, -1, -1, -1, -1, -1, -1, -1, -1, -1, -1, -1, -1, -1, -1, -1, -1, -1, -1],\n",
      "        [-1, -1, -1, -1, -1, -1, -1, -1, -1, -1, -1, -1,  0,  0,  0,  0,  0, -1, -1, -1, -1, -1, -1, -1],\n",
      "        [-1, -1, -1, -1, -1, -1, -1, -1, -1, -1,  0,  0,  0,  0,  0,  0,  0,  0,  0, -1, -1, -1, -1, -1],\n",
      "        [-1, -1, -1, -1, -1, -1, -1, -1, -1,  0,  0,  0,  0,  0,  0,  0,  0,  0,  0, -1, -1, -1, -1, -1],\n",
      "        [-1, -1, -1, -1, -1, -1, -1, -1, -1,  0,  0,  0,  0,  0,  0,  0,  0,  0,  0, -1, -1, -1, -1, -1],\n",
      "        [-1, -1, -1, -1, -1, -1, -1, -1, -1,  0,  0,  0,  0, -1,  0,  0,  0,  0,  0, -1, -1, -1, -1, -1],\n",
      "        [-1, -1, -1, -1, -1, -1, -1, -1, -1,  1,  0,  0, -1,  0,  0,  0,  0,  0,  0, -1, -1, -1, -1, -1],\n",
      "        [-1, -1, -1, -1, -1, -1, -1, -1, -1,  0,  0,  0,  0,  0,  0,  0,  0,  0,  0, -1, -1, -1, -1, -1],\n",
      "        [-1, -1, -1, -1, -1, -1, -1, -1, -1,  0,  0,  0,  0,  0,  0,  0,  0,  0, -1, -1, -1, -1, -1, -1],\n",
      "        [-1, -1, -1, -1, -1, -1, -1, -1, -1,  0,  0,  0,  0,  0,  0,  0,  0,  0, -1, -1, -1, -1, -1, -1],\n",
      "        [-1, -1, -1, -1, -1, -1, -1, -1, -1, -1,  0,  0,  0,  0,  0,  0,  0,  0, -1, -1, -1, -1, -1, -1],\n",
      "        [-1, -1, -1, -1, -1, -1, -1, -1, -1, -1, -1, -1, -1, -1,  0,  0,  0,  0, -1, -1, -1, -1, -1, -1],\n",
      "        [-1, -1, -1, -1, -1, -1, -1, -1, -1, -1, -1, -1, -1, -1,  0,  0,  0,  0, -1, -1, -1, -1, -1, -1],\n",
      "        [-1, -1, -1, -1, -1, -1, -1, -1, -1, -1, -1, -1, -1, -1,  0,  0,  0,  0, -1, -1, -1, -1, -1, -1],\n",
      "        [-1, -1, -1, -1, -1, -1, -1, -1, -1, -1, -1, -1, -1, -1,  0,  0,  0,  0, -1, -1, -1, -1, -1, -1],\n",
      "        [-1, -1, -1, -1, -1, -1, -1, -1, -1, -1, -1, -1, -1, -1, -1,  0,  0,  0, -1, -1, -1, -1, -1, -1],\n",
      "        [-1, -1, -1, -1, -1, -1, -1, -1, -1, -1, -1, -1, -1, -1, -1,  0,  0,  0,  0, -1, -1, -1, -1, -1],\n",
      "        [-1, -1, -1, -1, -1, -1, -1, -1, -1, -1, -1, -1, -1, -1,  0,  0,  0,  0,  0, -1, -1, -1, -1, -1],\n",
      "        [-1, -1, -1, -1, -1, -1, -1, -1, -1, -1, -1, -1, -1, -1,  0,  0,  0,  0,  0, -1, -1, -1, -1, -1],\n",
      "        [-1, -1, -1, -1, -1, -1, -1, -1, -1, -1, -1, -1, -1, -1,  0,  0,  0,  0,  0, -1, -1, -1, -1, -1],\n",
      "        [-1, -1, -1, -1, -1, -1, -1, -1, -1, -1, -1, -1, -1, -1, -1,  0,  0,  0, -1, -1, -1, -1, -1, -1],\n",
      "        [-1, -1, -1, -1, -1, -1, -1, -1, -1, -1, -1, -1, -1, -1, -1, -1, -1, -1, -1, -1, -1, -1, -1, -1]], dtype=torch.int32)\n"
     ]
    }
   ],
   "source": [
    "print(type(images))\n",
    "print(images.shape)\n",
    "print(labels.shape)\n",
    "print(labels)\n",
    "print((images[0,0,:,0:24]).int())"
   ]
  },
  {
   "cell_type": "code",
   "execution_count": 20,
   "metadata": {},
   "outputs": [
    {
     "name": "stdout",
     "output_type": "stream",
     "text": [
      "torch.Size([64, 1, 28, 28])\n"
     ]
    }
   ],
   "source": [
    "print(images.shape)"
   ]
  },
  {
   "cell_type": "code",
   "execution_count": 21,
   "metadata": {
    "scrolled": false
   },
   "outputs": [
    {
     "name": "stdout",
     "output_type": "stream",
     "text": [
      "<class 'torch.Tensor'>\n",
      "torch.Size([64, 1, 28, 28])\n",
      "(28, 28) float32\n"
     ]
    },
    {
     "data": {
      "text/plain": [
       "array([[-1.   , -1.   , -1.   , -1.   , -1.   , -1.   , -1.   , -1.   , -1.   , -1.   , -1.   , -1.   , -1.   , -1.   ],\n",
       "       [-1.   , -1.   , -1.   , -1.   , -1.   , -1.   , -1.   , -1.   , -1.   , -1.   , -1.   , -1.   , -1.   , -1.   ],\n",
       "       [-1.   , -1.   , -1.   , -1.   , -1.   , -1.   , -1.   , -1.   , -1.   , -1.   , -1.   , -1.   , -1.   , -1.   ],\n",
       "       [-1.   , -1.   , -1.   , -1.   , -1.   , -1.   , -1.   , -1.   , -1.   , -1.   , -1.   , -1.   , -1.   , -1.   ],\n",
       "       [-1.   , -1.   , -1.   , -1.   , -1.   , -1.   , -1.   , -1.   , -1.   , -1.   , -1.   , -1.   , -1.   , -1.   ],\n",
       "       [-1.   , -1.   , -1.   , -1.   , -1.   , -1.   , -1.   , -1.   , -1.   , -1.   , -1.   , -1.   , -1.   , -1.   ],\n",
       "       [-1.   , -1.   , -1.   , -1.   , -1.   , -1.   , -1.   , -1.   , -1.   , -1.   , -1.   , -1.   , -1.   , -1.   ],\n",
       "       [-1.   , -1.   , -1.   , -1.   , -1.   , -0.153,  0.812,  0.702,  0.929, -0.443, -1.   , -1.   , -1.   , -1.   ],\n",
       "       [-1.   , -1.   , -1.   , -0.804,  0.451,  0.961,  0.984,  0.992,  0.984,  0.89 , -0.02 , -0.788, -1.   , -1.   ],\n",
       "       [-1.   , -1.   , -0.851,  0.773,  0.984,  0.984,  0.984,  0.992,  0.984,  0.984,  0.984,  0.216, -1.   , -1.   ],\n",
       "       [-1.   , -1.   , -0.122,  0.984,  0.984,  0.812,  0.082,  0.161,  0.984,  0.984,  0.984,  0.569, -1.   , -1.   ],\n",
       "       [-1.   , -1.   ,  0.812,  0.984,  0.984, -0.678, -1.   , -0.537,  0.984,  0.984,  0.984,  0.216, -1.   , -1.   ],\n",
       "       [-1.   , -1.   ,  1.   ,  0.992,  0.373, -1.   , -0.82 ,  0.106,  0.992,  0.992,  0.992, -0.545, -1.   , -1.   ],\n",
       "       [-1.   , -1.   ,  0.929,  0.984,  0.89 ,  0.271,  0.325,  0.992,  0.984,  0.984,  0.835, -0.757, -1.   , -1.   ],\n",
       "       [-1.   , -1.   , -0.004,  0.984,  0.984,  0.984,  0.984,  0.992,  0.984,  0.984,  0.435, -1.   , -1.   , -1.   ],\n",
       "       [-1.   , -1.   , -0.788,  0.702,  0.984,  0.984,  0.984,  0.992,  0.984,  0.984, -0.796, -1.   , -1.   , -1.   ],\n",
       "       [-1.   , -1.   , -1.   , -0.788,  0.216,  0.984,  0.984,  0.992,  0.984,  0.984, -0.851, -1.   , -1.   , -1.   ],\n",
       "       [-1.   , -1.   , -1.   , -1.   , -1.   , -1.   , -1.   , -0.537,  0.992,  0.992, -0.851, -1.   , -1.   , -1.   ],\n",
       "       [-1.   , -1.   , -1.   , -1.   , -1.   , -1.   , -1.   , -0.537,  0.984,  0.984, -0.851, -1.   , -1.   , -1.   ],\n",
       "       [-1.   , -1.   , -1.   , -1.   , -1.   , -1.   , -1.   , -0.537,  0.984,  0.984, -0.851, -1.   , -1.   , -1.   ],\n",
       "       [-1.   , -1.   , -1.   , -1.   , -1.   , -1.   , -1.   , -0.31 ,  0.937,  0.984, -0.435, -1.   , -1.   , -1.   ],\n",
       "       [-1.   , -1.   , -1.   , -1.   , -1.   , -1.   , -1.   , -1.   ,  0.678,  0.984, -0.082, -1.   , -1.   , -1.   ],\n",
       "       [-1.   , -1.   , -1.   , -1.   , -1.   , -1.   , -1.   , -1.   ,  0.686,  0.992,  0.459, -0.89 , -1.   , -1.   ],\n",
       "       [-1.   , -1.   , -1.   , -1.   , -1.   , -1.   , -1.   , -0.78 ,  0.82 ,  0.984,  0.984,  0.098, -1.   , -1.   ],\n",
       "       [-1.   , -1.   , -1.   , -1.   , -1.   , -1.   , -1.   , -0.537,  0.984,  0.984,  0.984, -0.012, -1.   , -1.   ],\n",
       "       [-1.   , -1.   , -1.   , -1.   , -1.   , -1.   , -1.   , -0.608,  0.937,  0.984,  0.694, -0.961, -1.   , -1.   ],\n",
       "       [-1.   , -1.   , -1.   , -1.   , -1.   , -1.   , -1.   , -1.   ,  0.09 ,  0.451, -0.263, -1.   , -1.   , -1.   ],\n",
       "       [-1.   , -1.   , -1.   , -1.   , -1.   , -1.   , -1.   , -1.   , -1.   , -1.   , -1.   , -1.   , -1.   , -1.   ]], dtype=float32)"
      ]
     },
     "execution_count": 21,
     "metadata": {},
     "output_type": "execute_result"
    }
   ],
   "source": [
    "print(type(images))\n",
    "print(images.shape)\n",
    "a = images[0].numpy().squeeze()\n",
    "print(a.shape, a.dtype)\n",
    "a[:,7:21]"
   ]
  },
  {
   "cell_type": "markdown",
   "metadata": {},
   "source": [
    "This is whatthe images looks like.\n",
    "<br>First Images and last images."
   ]
  },
  {
   "cell_type": "code",
   "execution_count": 22,
   "metadata": {
    "scrolled": true
   },
   "outputs": [
    {
     "data": {
      "image/png": "[encoded data removed]",
      "text/plain": [
       "<matplotlib.figure.Figure at 0x7fd5da08cb70>"
      ]
     },
     "metadata": {
      "image/png": {
       "height": 250,
       "width": 253
      },
      "needs_background": "light"
     },
     "output_type": "display_data"
    }
   ],
   "source": [
    "plt.imshow(images[0].numpy().squeeze(), cmap='Greys_r');"
   ]
  },
  {
   "cell_type": "code",
   "execution_count": 23,
   "metadata": {},
   "outputs": [
    {
     "data": {
      "image/png": "[encoded data removed]",
      "text/plain": [
       "<matplotlib.figure.Figure at 0x7fd5da135a58>"
      ]
     },
     "metadata": {
      "image/png": {
       "height": 250,
       "width": 253
      },
      "needs_background": "light"
     },
     "output_type": "display_data"
    }
   ],
   "source": [
    "plt.imshow(images[1].numpy().squeeze(), cmap='Greys_r');"
   ]
  },
  {
   "cell_type": "code",
   "execution_count": 24,
   "metadata": {
    "scrolled": false
   },
   "outputs": [
    {
     "data": {
      "image/png": "[encoded data removed]",
      "text/plain": [
       "<matplotlib.figure.Figure at 0x7fd5d4f79c88>"
      ]
     },
     "metadata": {
      "image/png": {
       "height": 250,
       "width": 253
      },
      "needs_background": "light"
     },
     "output_type": "display_data"
    }
   ],
   "source": [
    "plt.imshow(images[2].numpy().squeeze(), cmap='Greys_r');"
   ]
  },
  {
   "cell_type": "code",
   "execution_count": 25,
   "metadata": {
    "scrolled": true
   },
   "outputs": [
    {
     "data": {
      "image/png": "[encoded data removed]",
      "text/plain": [
       "<matplotlib.figure.Figure at 0x7fd5d4f0ed68>"
      ]
     },
     "metadata": {
      "image/png": {
       "height": 250,
       "width": 253
      },
      "needs_background": "light"
     },
     "output_type": "display_data"
    }
   ],
   "source": [
    "plt.imshow(images[3].numpy().squeeze(), cmap='Greys_r');"
   ]
  },
  {
   "cell_type": "code",
   "execution_count": 26,
   "metadata": {},
   "outputs": [
    {
     "data": {
      "image/png": "[encoded data removed]",
      "text/plain": [
       "<matplotlib.figure.Figure at 0x7fd5d4ecc320>"
      ]
     },
     "metadata": {
      "image/png": {
       "height": 250,
       "width": 253
      },
      "needs_background": "light"
     },
     "output_type": "display_data"
    }
   ],
   "source": [
    "plt.imshow(images[4].numpy().squeeze(), cmap='Greys_r');"
   ]
  },
  {
   "cell_type": "code",
   "execution_count": 27,
   "metadata": {},
   "outputs": [
    {
     "data": {
      "image/png": "[encoded data removed]",
      "text/plain": [
       "<matplotlib.figure.Figure at 0x7fd5d4e91320>"
      ]
     },
     "metadata": {
      "image/png": {
       "height": 250,
       "width": 253
      },
      "needs_background": "light"
     },
     "output_type": "display_data"
    }
   ],
   "source": [
    "plt.imshow(images[5].numpy().squeeze(), cmap='Greys_r');"
   ]
  },
  {
   "cell_type": "code",
   "execution_count": 28,
   "metadata": {},
   "outputs": [
    {
     "data": {
      "image/png": "[encoded data removed]",
      "text/plain": [
       "<matplotlib.figure.Figure at 0x7fd5d4e42780>"
      ]
     },
     "metadata": {
      "image/png": {
       "height": 250,
       "width": 253
      },
      "needs_background": "light"
     },
     "output_type": "display_data"
    }
   ],
   "source": [
    "plt.imshow(images[6].numpy().squeeze(), cmap='Greys_r');"
   ]
  },
  {
   "cell_type": "code",
   "execution_count": 29,
   "metadata": {},
   "outputs": [
    {
     "data": {
      "image/png": "[encoded data removed]",
      "text/plain": [
       "<matplotlib.figure.Figure at 0x7fd5d4e58e80>"
      ]
     },
     "metadata": {
      "image/png": {
       "height": 250,
       "width": 253
      },
      "needs_background": "light"
     },
     "output_type": "display_data"
    }
   ],
   "source": [
    "plt.imshow(images[7].numpy().squeeze(), cmap='Greys_r');"
   ]
  },
  {
   "cell_type": "code",
   "execution_count": 30,
   "metadata": {},
   "outputs": [
    {
     "data": {
      "image/png": "[encoded data removed]",
      "text/plain": [
       "<matplotlib.figure.Figure at 0x7fd5d4fd35f8>"
      ]
     },
     "metadata": {
      "image/png": {
       "height": 250,
       "width": 253
      },
      "needs_background": "light"
     },
     "output_type": "display_data"
    }
   ],
   "source": [
    "plt.imshow(images[8].numpy().squeeze(), cmap='Greys_r');"
   ]
  },
  {
   "cell_type": "code",
   "execution_count": 31,
   "metadata": {
    "scrolled": true
   },
   "outputs": [
    {
     "data": {
      "image/png": "[encoded data removed]",
      "text/plain": [
       "<matplotlib.figure.Figure at 0x7fd5da117dd8>"
      ]
     },
     "metadata": {
      "image/png": {
       "height": 250,
       "width": 253
      },
      "needs_background": "light"
     },
     "output_type": "display_data"
    }
   ],
   "source": [
    "plt.imshow(images[9].numpy().squeeze(), cmap='Greys_r');"
   ]
  },
  {
   "cell_type": "markdown",
   "metadata": {},
   "source": [
    "Last Images"
   ]
  },
  {
   "cell_type": "code",
   "execution_count": 32,
   "metadata": {},
   "outputs": [
    {
     "data": {
      "image/png": "[encoded data removed]",
      "text/plain": [
       "<matplotlib.figure.Figure at 0x7fd5da154cc0>"
      ]
     },
     "metadata": {
      "image/png": {
       "height": 250,
       "width": 253
      },
      "needs_background": "light"
     },
     "output_type": "display_data"
    }
   ],
   "source": [
    "plt.imshow(images[61].numpy().squeeze(), cmap='Greys_r');"
   ]
  },
  {
   "cell_type": "code",
   "execution_count": 33,
   "metadata": {},
   "outputs": [
    {
     "data": {
      "image/png": "[encoded data removed]",
      "text/plain": [
       "<matplotlib.figure.Figure at 0x7fd5d4f644e0>"
      ]
     },
     "metadata": {
      "image/png": {
       "height": 250,
       "width": 253
      },
      "needs_background": "light"
     },
     "output_type": "display_data"
    }
   ],
   "source": [
    "plt.imshow(images[62].numpy().squeeze(), cmap='Greys_r');"
   ]
  },
  {
   "cell_type": "code",
   "execution_count": 34,
   "metadata": {
    "scrolled": false
   },
   "outputs": [
    {
     "data": {
      "image/png": "[encoded data removed]",
      "text/plain": [
       "<matplotlib.figure.Figure at 0x7fd5d4df45f8>"
      ]
     },
     "metadata": {
      "image/png": {
       "height": 250,
       "width": 253
      },
      "needs_background": "light"
     },
     "output_type": "display_data"
    }
   ],
   "source": [
    "plt.imshow(images[63].numpy().squeeze(), cmap='Greys_r');"
   ]
  },
  {
   "cell_type": "code",
   "execution_count": 35,
   "metadata": {
    "scrolled": true
   },
   "outputs": [
    {
     "ename": "IndexError",
     "evalue": "index 64 is out of bounds for dimension 0 with size 64",
     "output_type": "error",
     "traceback": [
      "\u001b[0;31m---------------------------------------------------------------------------\u001b[0m",
      "\u001b[0;31mIndexError\u001b[0m                                Traceback (most recent call last)",
      "\u001b[0;32m<ipython-input-35-82f4557be842>\u001b[0m in \u001b[0;36m<module>\u001b[0;34m()\u001b[0m\n\u001b[1;32m      1\u001b[0m \u001b[0;31m# Error if Batch has 64 images: from 0 to 63. 64 is out of bounds.\u001b[0m\u001b[0;34m\u001b[0m\u001b[0;34m\u001b[0m\u001b[0m\n\u001b[0;32m----> 2\u001b[0;31m \u001b[0mplt\u001b[0m\u001b[0;34m.\u001b[0m\u001b[0mimshow\u001b[0m\u001b[0;34m(\u001b[0m\u001b[0mimages\u001b[0m\u001b[0;34m[\u001b[0m\u001b[0;36m64\u001b[0m\u001b[0;34m]\u001b[0m\u001b[0;34m.\u001b[0m\u001b[0mnumpy\u001b[0m\u001b[0;34m(\u001b[0m\u001b[0;34m)\u001b[0m\u001b[0;34m.\u001b[0m\u001b[0msqueeze\u001b[0m\u001b[0;34m(\u001b[0m\u001b[0;34m)\u001b[0m\u001b[0;34m,\u001b[0m \u001b[0mcmap\u001b[0m\u001b[0;34m=\u001b[0m\u001b[0;34m'Greys_r'\u001b[0m\u001b[0;34m)\u001b[0m\u001b[0;34m;\u001b[0m\u001b[0;34m\u001b[0m\u001b[0m\n\u001b[0m",
      "\u001b[0;31mIndexError\u001b[0m: index 64 is out of bounds for dimension 0 with size 64"
     ]
    }
   ],
   "source": [
    "# Error if Batch has 64 images: from 0 to 63. 64 is out of bounds.\n",
    "plt.imshow(images[64].numpy().squeeze(), cmap='Greys_r');"
   ]
  },
  {
   "cell_type": "markdown",
   "metadata": {},
   "source": [
    "First, let's try to build a simple network for this dataset using weight matrices and matrix multiplications. Then, we'll see how to do it using PyTorch's `nn` module which provides a much more convenient and powerful method for defining network architectures.\n",
    "\n",
    "The networks you've seen so far are called *fully-connected* or *dense* networks. Each unit in one layer is connected to each unit in the next layer. In fully-connected networks, the input to each layer must be a one-dimensional vector (which can be stacked into a 2D tensor as a batch of multiple examples). However, our images are 28x28 2D tensors, so we need to convert them into 1D vectors. Thinking about sizes, we need to convert the batch of images with shape `(64, 1, 28, 28)` to a have a shape of `(64, 784)`, 784 is 28 times 28. This is typically called *flattening*, we flattened the 2D images into 1D vectors.\n",
    "\n",
    "Previously you built a network with one output unit. Here we need 10 output units, one for each digit. We want our network to predict the digit shown in an image, so what we'll do is calculate probabilities that the image is of any one digit or class. This ends up being a discrete probability distribution over the classes (digits) that tells us the most likely class for the image. That means we need 10 output units for the 10 classes (digits). We'll see how to convert the network output into a probability distribution next.\n",
    "\n",
    "> **Exercise:** Flatten the batch of images `images`. Then build a multi-layer network with 784 input units, 256 hidden units, and 10 output units using random tensors for the weights and biases. For now, use a sigmoid activation for the hidden layer. Leave the output layer without an activation, we'll add one that gives us a probability distribution next."
   ]
  },
  {
   "cell_type": "code",
   "execution_count": 36,
   "metadata": {},
   "outputs": [
    {
     "name": "stdout",
     "output_type": "stream",
     "text": [
      "torch.Size([64, 1, 28, 28])\n",
      "torch.Size([64, 784])\n"
     ]
    }
   ],
   "source": [
    "print(images.shape)\n",
    "# Flat images from 2D(64,1,28,28) to 1D(64,784)\n",
    "pixels = images.view(images.shape[0],-1)\n",
    "print(pixels.shape)"
   ]
  },
  {
   "cell_type": "code",
   "execution_count": 37,
   "metadata": {},
   "outputs": [
    {
     "name": "stdout",
     "output_type": "stream",
     "text": [
      "torch.Size([784, 256])\n"
     ]
    },
    {
     "data": {
      "text/plain": [
       "tensor([[ 3.2328e-01, -1.1853e+00,  1.9914e+00,  ...,  1.1123e+00, -1.1718e+00, -1.0398e+00],\n",
       "        [ 2.8443e-01, -8.4084e-02,  6.0965e-01,  ...,  6.9632e-01,  2.8087e+00, -2.3036e+00],\n",
       "        [-3.9897e-01, -5.0919e-01, -9.6939e-02,  ..., -1.1185e+00,  1.9234e-02, -2.7674e+00],\n",
       "        ...,\n",
       "        [-6.9188e-01, -4.3746e-01,  4.7974e-01,  ...,  5.2196e-01,  1.3191e+00,  4.1248e-02],\n",
       "        [ 5.9069e-01,  2.0741e+00,  5.1810e-01,  ...,  1.2429e+00, -1.2583e+00,  5.9231e-01],\n",
       "        [-1.1405e+00, -3.6527e-02,  1.1952e+00,  ..., -4.5748e-01,  5.7139e-01, -9.3145e-01]])"
      ]
     },
     "execution_count": 37,
     "metadata": {},
     "output_type": "execute_result"
    }
   ],
   "source": [
    "# Build a multi-layer network with 784 input units, 256 hidden units,\n",
    "# and 10 output units using random tensors for the weights and biases.\n",
    "\n",
    "# Input image(L0) is a matrix of 1 row, 784 pixel columns\n",
    "\n",
    "# (L1)Perceptron weight matrix parameters, 784 pixel rows from L0, for each 256 hidden units columns\n",
    "W1 = torch.randn(784, 256) \n",
    "print(W1.shape)\n",
    "W1"
   ]
  },
  {
   "cell_type": "code",
   "execution_count": 38,
   "metadata": {},
   "outputs": [
    {
     "name": "stdout",
     "output_type": "stream",
     "text": [
      "torch.Size([256])\n"
     ]
    },
    {
     "data": {
      "text/plain": [
       "tensor([ 1.4020e+00, -1.2150e+00,  3.0697e-01,  1.2407e+00, -2.0362e+00,  6.6600e-01, -1.7618e+00,  1.0514e+00,  4.9281e-01,  5.0546e-01,\n",
       "         6.4256e-01,  3.7880e-01, -8.4891e-01,  3.1005e-02,  1.0079e+00, -1.5176e+00, -1.1648e+00, -7.1824e-01, -5.0115e-01, -1.4139e-01,\n",
       "         6.3844e-01,  7.0376e-02,  7.8201e-01, -2.5398e-01,  1.0311e+00,  4.9877e-02,  4.5552e-01, -1.3010e+00,  2.8118e-01,  9.0767e-01,\n",
       "         5.7658e-01, -1.4337e+00,  8.3139e-05, -7.5760e-01, -9.1645e-02, -5.7655e-01,  2.4959e-01,  1.3537e+00,  3.7451e-01,  1.1981e-02,\n",
       "         3.3584e-01, -1.0201e+00,  1.2013e+00, -4.4531e-01, -2.4635e-01, -1.2808e+00, -1.7949e+00, -7.2746e-01, -1.5340e+00, -1.2033e+00,\n",
       "         6.5888e-01,  3.3953e-01,  5.9600e-01, -3.8915e-01, -5.1456e-01,  6.8366e-01,  3.3974e-01, -3.4560e-01,  8.0091e-01, -1.9660e+00,\n",
       "         1.5135e+00,  1.1190e+00,  5.0802e-01, -8.0773e-01, -1.4103e-01, -6.9929e-01, -9.9927e-01,  1.5042e-01,  1.1082e-01, -1.3922e+00,\n",
       "        -3.1050e+00,  4.2420e-01, -1.2437e+00, -9.5788e-01,  5.2297e-01,  1.5570e+00,  2.1496e-01, -1.6711e-01,  1.1069e+00, -1.0060e+00,\n",
       "        -2.4174e-01, -7.8765e-02, -4.2043e-01,  7.3896e-01,  2.3461e-01,  4.8653e-01, -1.1450e-01,  4.8074e-01,  4.5918e-01,  2.4090e-01,\n",
       "         1.0656e+00,  5.5255e-01, -8.4139e-01,  1.0777e+00, -1.1683e+00, -1.6011e-01, -9.8544e-01,  6.5520e-02,  1.3172e+00,  7.8680e-01,\n",
       "        -5.0561e-01,  2.9535e-01, -5.1063e-01,  2.4615e-01, -1.3786e+00, -1.7983e+00,  1.2242e-01,  2.3999e-01, -3.0923e-01,  3.4086e-01,\n",
       "         6.9824e-02,  1.1490e+00, -1.1780e-01,  1.0148e+00,  2.7829e-01, -1.9362e+00, -4.5284e-01, -1.5329e+00, -1.2961e+00, -2.3215e-01,\n",
       "        -1.0910e+00, -5.9163e-01,  5.0858e-02,  4.7174e-01,  4.2470e-01,  2.4263e-01, -8.7626e-01,  1.1371e+00, -6.6173e-01,  1.5858e-01,\n",
       "         1.0315e+00, -1.1264e-01,  9.2619e-01, -1.9157e+00, -3.8080e-01, -4.2702e-03, -1.2205e+00, -7.9921e-01, -1.0038e+00, -2.2518e-01,\n",
       "        -9.6631e-01, -6.7020e-01,  1.2034e+00,  5.4373e-01, -1.3822e+00,  1.6787e+00,  6.3857e-01, -7.3488e-01,  2.2306e-01, -1.4456e+00,\n",
       "        -2.6005e+00,  1.2898e+00,  6.4476e-01,  2.6345e-01, -1.5657e+00,  9.6360e-01, -9.1153e-01,  1.0226e+00, -2.1548e+00,  6.3199e-01,\n",
       "        -1.3549e+00, -1.5290e+00, -3.8701e-01, -1.9303e+00, -5.7472e-01,  4.6457e-01,  6.4060e-01,  5.5070e-01, -1.6265e-01,  4.3304e-01,\n",
       "        -1.0721e+00,  1.2530e+00, -1.0615e+00, -5.5410e-01, -2.4349e-01, -6.3327e-01, -9.6106e-01,  3.2236e-01, -1.5238e-01,  6.2478e-01,\n",
       "         5.3402e-01, -1.8311e+00,  8.1638e-01, -1.6778e-01, -7.1227e-01, -4.8270e-01, -7.1683e-01, -1.6603e+00,  2.2557e-01,  1.7373e+00,\n",
       "         1.4153e+00, -6.3546e-01, -5.8083e-01,  2.8069e+00, -9.8797e-01,  1.4604e+00,  1.8138e-01, -4.8206e-01,  4.1430e-01,  3.5559e-01,\n",
       "        -4.1509e-01, -1.5510e-01, -2.2058e-02,  1.5787e+00, -1.1603e+00, -7.1274e-01,  2.4239e+00, -3.5942e-01,  1.3387e+00, -1.9869e+00,\n",
       "         2.6144e+00,  1.0620e+00,  1.8574e+00,  7.2704e-01, -2.7665e-01, -4.7417e-01,  9.8126e-02,  1.7591e-01,  7.4961e-01,  1.6189e+00,\n",
       "        -6.0086e-01,  1.5850e+00,  3.1395e-01,  1.9520e-01, -4.8166e-01, -3.3416e-01,  8.7432e-01,  6.5268e-01,  2.4223e-01, -9.4534e-01,\n",
       "         3.0417e-01,  2.9695e-01, -7.1831e-01, -1.0544e+00, -2.9347e-01, -2.5888e+00, -1.1938e+00,  9.6947e-01, -9.9239e-01,  6.8770e-01,\n",
       "         5.7760e-01, -1.3838e-01, -3.5442e-01, -1.5464e+00,  1.5715e+00, -2.9779e-01, -1.3309e-01,  6.3655e-01, -1.0851e+00, -9.7514e-01,\n",
       "         1.0075e+00, -1.8447e+00, -1.1828e-01, -1.0101e+00,  1.3360e-02,  2.3212e-01])"
      ]
     },
     "execution_count": 38,
     "metadata": {},
     "output_type": "execute_result"
    }
   ],
   "source": [
    "# (L1)Perceptron bias matrix,256 values, one each L1 units\n",
    "B1 = torch.randn(256)\n",
    "print(B1.shape)\n",
    "B1"
   ]
  },
  {
   "cell_type": "code",
   "execution_count": 39,
   "metadata": {},
   "outputs": [
    {
     "name": "stdout",
     "output_type": "stream",
     "text": [
      "torch.Size([256, 10])\n"
     ]
    },
    {
     "data": {
      "text/plain": [
       "tensor([[ 1.5694, -2.9038, -1.2281,  ..., -0.4474,  0.1350, -0.3612],\n",
       "        [-0.1564,  0.4074, -0.1960,  ..., -1.0692, -0.6306, -0.3319],\n",
       "        [ 0.1231,  0.0896, -0.4218,  ...,  0.8292, -0.0268, -0.1802],\n",
       "        ...,\n",
       "        [-0.4923, -0.3048, -1.4567,  ...,  0.6111, -0.8161,  0.9289],\n",
       "        [ 0.2616,  0.7481, -0.0117,  ..., -1.6261,  0.2466,  0.6505],\n",
       "        [ 1.4145, -0.4309, -1.3208,  ...,  1.4735,  1.3117,  1.3989]])"
      ]
     },
     "execution_count": 39,
     "metadata": {},
     "output_type": "execute_result"
    }
   ],
   "source": [
    "# (L2)Perceptron weight matrix parameters, 256 rows:outputs of L1 layer, , for each 10 columns: output units\n",
    "W2 = torch.randn(256, 10)\n",
    "print(W2.shape)\n",
    "W2"
   ]
  },
  {
   "cell_type": "code",
   "execution_count": 40,
   "metadata": {},
   "outputs": [
    {
     "name": "stdout",
     "output_type": "stream",
     "text": [
      "torch.Size([10])\n"
     ]
    },
    {
     "data": {
      "text/plain": [
       "tensor([ 0.4694,  1.9844, -0.2168, -0.6089,  0.7504, -0.7159, -0.5575,  0.9109,  0.2332, -0.0422])"
      ]
     },
     "execution_count": 40,
     "metadata": {},
     "output_type": "execute_result"
    }
   ],
   "source": [
    "# (L2)Perceptron bias matrix,10 values, one each L2 units\n",
    "B2 = torch.randn(10)\n",
    "print(B2.shape)\n",
    "B2"
   ]
  },
  {
   "cell_type": "code",
   "execution_count": 41,
   "metadata": {},
   "outputs": [
    {
     "name": "stdout",
     "output_type": "stream",
     "text": [
      "torch.Size([64, 256])\n"
     ]
    },
    {
     "data": {
      "text/plain": [
       "tensor([[ 0.9863,  0.0000,  0.0000,  ...,  0.2026,  0.0300,  1.0000],\n",
       "        [ 0.0000,  0.0031,  0.0000,  ...,  0.0000,  0.9796,  1.0000],\n",
       "        [ 0.0000,  0.0000,  0.0000,  ...,  0.0000,  1.0000,  0.9559],\n",
       "        ...,\n",
       "        [ 0.0000,  0.0000,  0.0000,  ...,  0.0000,  0.0003,  1.0000],\n",
       "        [ 0.0000,  0.0000,  0.0000,  ...,  0.0000,  0.0000,  1.0000],\n",
       "        [ 0.0000,  0.0000,  0.0000,  ...,  0.0000,  0.0012,  1.0000]])"
      ]
     },
     "execution_count": 41,
     "metadata": {},
     "output_type": "execute_result"
    }
   ],
   "source": [
    "# Use a sigmoid activation for the L1 hidden layer.\n",
    "h1 = sigmoid_tch(torch.mm(pixels, W1) + B1)\n",
    "print(h1.shape)\n",
    "h1"
   ]
  },
  {
   "cell_type": "code",
   "execution_count": 42,
   "metadata": {
    "scrolled": false
   },
   "outputs": [
    {
     "name": "stdout",
     "output_type": "stream",
     "text": [
      "torch.Size([64, 10])\n",
      "tensor([[ -8.0699,  -9.3629, -12.6652,  -5.2126, -13.1338,   2.3081,  -5.5626, -14.4155,   0.2871,   7.2105],\n",
      "        [ -1.8204,  -2.7526, -15.3016,  -4.6169, -24.4876,   3.5526, -16.9862, -11.1251, -10.2801,   2.4436],\n",
      "        [  3.3993,  -4.3790,  -1.0981,  -6.8854, -10.6195,  -1.1588, -19.0925,  -5.4606, -11.0666,   2.1580],\n",
      "        [  2.0648,  -8.0455,  -1.5491,   2.8081, -22.3894,   1.8881, -12.7546, -17.1626,  -1.7596,  -0.7458],\n",
      "        [  1.5642,  -4.3308,  -8.0084,   0.6090,  -1.7415,   3.4633, -20.0601,  -0.3335,  -1.1629,   2.1171],\n",
      "        [  6.4698,  -5.8665,  -4.6846,  -5.4040, -13.8297,   2.1998, -18.6402, -12.4632,  -0.1509,  -5.6083],\n",
      "        [  1.6446,  -3.8261,  -2.9642,  -3.8146, -13.2154,   3.1114, -12.2424, -12.1932,   1.6775,  -4.5858],\n",
      "        [  5.2671,  -8.4334, -10.9429,  -4.2420,   1.1274,  -4.9300, -16.0795, -15.6879,   3.7079,   7.1460],\n",
      "        [  3.4463, -11.0380,  -8.4240,  -4.4688, -13.0599,   0.4764,  -4.5454, -12.2566,  -1.0893,   3.4246],\n",
      "        [  7.9198,  -4.5187,   0.0907,  -6.2889, -26.5678,   5.4991,  -0.0945, -12.0708,  -2.1386,   3.9539],\n",
      "        [-13.1721, -10.8122,  -7.2333,   6.2499,  -3.5399,   0.4241, -16.5716, -17.0933,   6.4795,   3.7804],\n",
      "        [ -3.3607,  -6.1999,  -5.3559,  -0.7205,  -4.4310,   3.6288, -12.6016, -11.4107,   2.8445,  -6.9962],\n",
      "        [ -0.7081,  -8.6151,  -3.0521,  -4.9625, -18.4637,  -1.5928, -10.2235, -10.0963,  -0.8613,   4.9220],\n",
      "        [ -4.7867,  -7.7837,  -7.8840,  -4.4873, -20.8661,   7.7830,  -8.6400, -14.4865,   2.9854,   8.8665],\n",
      "        [  4.7367, -18.3160,  -2.5404,   1.3223, -19.1941,  -5.2336, -13.8708,  -4.4350,   1.9614,   3.2695],\n",
      "        [  7.4909, -19.8175, -16.4737,   1.6346, -12.6956,  -6.4376, -14.8839, -14.8568,  -2.9013,  -5.2353],\n",
      "        [ -5.3374,  -3.9277,  -2.8307,   0.7416, -20.8416,   6.1164,  -3.2863,  -9.5470,   4.0031,   9.8661],\n",
      "        [ -2.3150,  -7.1971, -10.5053,  -8.4824,  -9.4263,   0.6015,  -9.0500,  -6.6252,  -6.1105,   5.1531],\n",
      "        [  0.3187,  -7.9485,  -8.0720,  -4.8149, -10.3288,   3.7824,  -9.7080, -10.2896, -10.3819, -10.1890],\n",
      "        [  2.1198, -15.2062,  -3.1407,  -4.3148,  -6.1054,  -1.3539, -11.3860, -16.2684,  -1.3489,   6.0720],\n",
      "        [ -0.0854, -18.2759, -16.2829,  -7.5827,  -9.7301,   0.0021, -12.1326,  -5.0208,  -4.0212,   0.3196],\n",
      "        [ -5.1685,  -4.6955, -11.3642,  -5.5849, -19.2154,   6.9073, -10.7059, -14.9019,  -1.1031,  -0.0933],\n",
      "        [ -4.0573,  -1.3771, -12.9681,   8.4474, -17.3401,   7.9686, -12.7217, -21.5034,  -2.6291,   2.3291],\n",
      "        [ -0.9244,  -9.7136, -11.2249,  -0.4483, -25.1807,   4.2898,  -9.3721, -10.1335,  -1.8398,  -7.1033],\n",
      "        [ -4.3243, -10.2295,  -9.5508,  -7.9089, -11.1410,  -2.7249,  -8.2752, -10.7212,  -5.7552,   6.4782],\n",
      "        [ -1.4033, -13.6991, -16.5571,  -2.9888,  -3.2712,   1.0292, -12.7536,  -6.5128,   7.4424,  -5.5597],\n",
      "        [-11.8006, -13.8380,   0.4966,  -4.2470, -25.6277,  14.5520,  -6.5079,  -7.8903,  -5.3889,   6.9461],\n",
      "        [ -1.9537, -17.6156,  -8.9065,  -0.6780, -14.6763,   6.7886,  -8.8725,  -5.9432,  -3.1892,   7.0769],\n",
      "        [  5.4930, -13.0738, -10.3470,  -6.0060, -12.7645,   3.1572, -16.9610, -10.1913,  -3.5771,   8.5408],\n",
      "        [ -9.7031,  -9.1819, -10.3068,  -0.5707, -15.7759,   9.1293, -11.0037, -10.1999,   3.3598,  10.7233],\n",
      "        [  1.2824,  -9.5307, -17.3349,  -5.6755, -20.1747,  -5.0310,  -7.4499, -10.8448,  -6.2020,  -3.1608],\n",
      "        [  0.9907,  -4.5747, -11.8612,  -7.4028, -10.3906,   2.1738, -10.4792,  -5.6268,  -7.9473,   6.4909],\n",
      "        [  0.5918,  -7.8802,  -4.8438,  -0.9812,  -5.3277,  -6.7957, -10.9081, -10.6537,   4.1569,   2.0087],\n",
      "        [ -1.3208,  -9.7323,  -2.7399,   0.6754, -20.8672,  -6.0412,  -7.1276,  -4.9514,   4.1053,   3.9289],\n",
      "        [ -0.3859, -19.4131,  -9.0150,  -5.5752, -17.1147,  -0.0919, -12.3775,  -8.1452,   4.6283,   1.2548],\n",
      "        [ -0.3066, -12.6341,  -8.8095,  -5.3331, -14.6084,  -3.6580, -11.6454, -12.6669,  -5.5766,   9.4915],\n",
      "        [ -2.1783,  -4.5047,  -1.8330,   3.5649, -14.2108,   3.5962,  -3.1591, -13.3467,  -2.4997,   5.7581],\n",
      "        [ -1.3580,  -3.9853,  -4.6023,  -9.7643,  -6.1928,   3.2846, -15.0838,  -9.2465,  -5.6374,   8.3355],\n",
      "        [ -9.1891,  -7.3794, -10.3592,  -0.6139, -20.1697,   3.3567, -11.1351,  -5.0082,   3.6139,  10.7692],\n",
      "        [ -2.6511, -11.5919, -13.2272,  -6.3285, -12.0118,  -2.0714, -10.4801,  -6.6630,  -2.8400,  10.8310],\n",
      "        [ -0.3464,  -8.3863,  -9.2229,   2.0210, -19.1104,   4.6197, -18.1512,  -6.3898,   1.8345,  -3.5397],\n",
      "        [ -5.0877, -13.2814,  -9.3803,  -3.3749, -14.9371,   7.9658, -12.2986,  -9.1314,  -4.1221,  12.1547],\n",
      "        [  4.4775,  -1.5390,  -1.2127,  -2.1272, -11.1711,  -3.5638,  -6.0419,  -6.6199,  10.7281,   0.1058],\n",
      "        [  3.1992,  -7.3890,  -9.4261,  -0.7234, -11.5610,   5.4185, -12.4719, -18.2825,  -6.1596,   0.5850],\n",
      "        [ -0.3453,  -8.1050, -11.9363,  -5.3696, -11.3243,   0.7320, -17.2887,  -7.9598,   4.7077,  11.5762],\n",
      "        [  6.5508, -11.0795,  -1.5662,  -1.7880, -25.2982,   5.3837,  -4.7735,  -8.6878,   4.2454,   5.0560],\n",
      "        [  0.0258, -17.8594,  -8.3493,  -5.0821,  -4.5979,   4.9356, -14.7265, -18.1725,  -7.1148,  13.4465],\n",
      "        [ -4.5416, -15.3075,  -5.5552,  -9.9078, -15.0037,  -4.7039,  -0.3085, -18.9067,  -5.0618,  14.4222],\n",
      "        [ 10.1946,  -2.4918,  -7.3321,  -0.8722, -17.6326,  -2.3884, -15.9251, -12.0328,   0.0013,   4.0223],\n",
      "        [  3.5763, -15.5898, -13.8700,  -2.4688,  -8.3196,   1.9386, -12.6038, -10.8992,   0.5830,   5.7689],\n",
      "        [ -9.1391,  -6.0189,  -5.3372,  -4.7102,  -3.9224,   2.7747, -15.2810, -13.6790,   6.0783,  11.5466],\n",
      "        [  2.2023,  -8.4416, -14.3224,  -2.3649, -16.7947,   4.9246, -12.0041, -10.3274,  -0.8085,   1.7069],\n",
      "        [ -9.4453, -11.2402,  -6.5367,  -7.6631, -12.1012,  -1.1192,  -9.0360,  -7.1028,  -0.1141,   7.6148],\n",
      "        [-10.3761,  -2.8713,  -1.9413,  -3.2988, -17.3642,   2.2101,  -8.2477,  -5.5864,   2.2271,   1.5944],\n",
      "        [  2.5690, -12.8921, -12.5934,  -2.9460, -17.2091,  -0.1489,  -7.1016, -15.4135,   8.8804,  -7.9605],\n",
      "        [  0.9829,  -1.4186,  -9.0433,  -5.9597, -21.0900,   3.4939,  -2.4497, -10.1403,   3.1811,   5.2259],\n",
      "        [  3.4662, -10.8953,  -7.1807,  -3.8798, -20.5362,  -0.1662,  -6.7974, -14.4928,   1.1611,   7.8044],\n",
      "        [ -1.9347, -15.5219,   1.2139,   6.9482,  -6.3357,   0.6114, -14.4166,  -9.7014,   5.5611,   2.3077],\n",
      "        [  1.8526,  -5.9530,   1.1746,  -0.2132, -14.0881,   2.8757,  -8.0307,  -6.6241,  -0.6267,   0.5288],\n",
      "        [  1.0327, -13.0752, -12.4624,  -2.4702, -17.9007,  -4.1427, -10.2428, -12.2582,  -9.0231,   7.6447],\n",
      "        [ -4.3597,  -5.4707,  -9.7782,   0.7633, -25.2853,   4.8565,  -8.2414,  -5.5867,  -3.6967,   1.4344],\n",
      "        [ -6.7631, -10.7054,  -8.2157,  -2.5781, -16.1239,   3.7077,  -5.0826, -14.3955,  -0.8686,  -0.7640],\n",
      "        [  3.1612,  -7.5827,  -4.1992,  -7.8350, -19.1858,   1.7909, -12.0141, -11.0022,   1.7853,  -3.2656],\n",
      "        [  5.7443, -18.5701, -10.2618,  -1.4377,  -4.1538,   3.9784, -21.6790, -12.7153,  -4.0964,   2.5462]])\n"
     ]
    }
   ],
   "source": [
    "# L2 output layer without an activation\n",
    "h2 = torch.mm(h1, W2) + B2\n",
    "print(h2.shape)\n",
    "print(h2)"
   ]
  },
  {
   "cell_type": "markdown",
   "metadata": {},
   "source": [
    "Now we have 10 outputs for our network. We want to pass in an image to our network and get out a probability distribution over the classes that tells us the likely class(es) the image belongs to. Something that looks like this:\n",
    "<img src='assets/image_distribution.png' width=500px>\n",
    "\n",
    "Here we see that the probability for each class is roughly the same. This is representing an untrained network, it hasn't seen any data yet so it just returns a uniform distribution with equal probabilities for each class.\n",
    "\n",
    "To calculate this probability distribution, we often use the [**softmax** function](https://en.wikipedia.org/wiki/Softmax_function). Mathematically this looks like\n",
    "\n",
    "$$\n",
    "\\Large \\sigma(x_i) = \\cfrac{e^{x_i}}{\\sum_k^K{e^{x_k}}}\n",
    "$$\n",
    "\n",
    "What this does is squish each input $x_i$ between 0 and 1 and normalizes the values to give you a proper probability distribution where the probabilites sum up to one.\n",
    "\n",
    "> **Exercise:** Implement a function `softmax` that performs the softmax calculation and returns probability distributions for each example in the batch. Note that you'll need to pay attention to the shapes when doing this. If you have a tensor `a` with shape `(64, 10)` and a tensor `b` with shape `(64,)`, doing `a/b` will give you an error because PyTorch will try to do the division across the columns (called broadcasting) but you'll get a size mismatch. The way to think about this is for each of the 64 examples, you only want to divide by one value, the sum in the denominator. So you need `b` to have a shape of `(64, 1)`. This way PyTorch will divide the 10 values in each row of `a` by the one value in each row of `b`. Pay attention to how you take the sum as well. You'll need to define the `dim` keyword in `torch.sum`. Setting `dim=0` takes the sum across the rows while `dim=1` takes the sum across the columns."
   ]
  },
  {
   "cell_type": "code",
   "execution_count": 43,
   "metadata": {
    "scrolled": false
   },
   "outputs": [],
   "source": [
    "def softmax(x):\n",
    "    #print('************** SOFTMAX INITIAL ********************')\n",
    "    z_exp = torch.exp(x) # Matrix with exponentials of values for x matrix values\n",
    "    #print('***z_exp***', z_exp.shape)\n",
    "    #print(z_exp)\n",
    "    # Calculate sum of row values->dim =1, on z_exp matrix\n",
    "    # Adjust from tensor of 64 elements to tensor 64 columns x 1 row ->.view(-1,1)\n",
    "    sum_z_exp = torch.sum(z_exp, dim=1).view(-1,1) \n",
    "    #print('***sum_z_exp***',sum_z_exp.shape)\n",
    "    #print(sum_z_exp)\n",
    "    sftmx = z_exp / sum_z_exp\n",
    "    #print('***softmax = z_exp/sum_z_exp***', sftmx.shape)\n",
    "    #print(sftmx)\n",
    "    #print('***Suma softmax***')\n",
    "    #print(torch.sum(sftmx, dim=1))\n",
    "    #print('**************** SOFTMAX END ***********************')\n",
    "    return sftmx"
   ]
  },
  {
   "cell_type": "code",
   "execution_count": 44,
   "metadata": {
    "scrolled": false
   },
   "outputs": [],
   "source": [
    "# Here, out should be the output of the network in the previous excercise with shape (64,10)\n",
    "probabilities = softmax(h2)"
   ]
  },
  {
   "cell_type": "code",
   "execution_count": 45,
   "metadata": {},
   "outputs": [
    {
     "name": "stdout",
     "output_type": "stream",
     "text": [
      "softmax torch.Size([64, 10])\n"
     ]
    }
   ],
   "source": [
    "# Does it have the right shape? Should be (64, 10)\n",
    "print('softmax',probabilities.shape)\n",
    "#print(probabilities)"
   ]
  },
  {
   "cell_type": "code",
   "execution_count": 46,
   "metadata": {
    "scrolled": true
   },
   "outputs": [
    {
     "name": "stdout",
     "output_type": "stream",
     "text": [
      "tensor([ 1.0000,  1.0000,  1.0000,  1.0000,  1.0000,  1.0000,  1.0000,  1.0000,  1.0000,  1.0000,  1.0000,  1.0000,  1.0000,  1.0000,\n",
      "         1.0000,  1.0000,  1.0000,  1.0000,  1.0000,  1.0000,  1.0000,  1.0000,  1.0000,  1.0000,  1.0000,  1.0000,  1.0000,  1.0000,\n",
      "         1.0000,  1.0000,  1.0000,  1.0000,  1.0000,  1.0000,  1.0000,  1.0000,  1.0000,  1.0000,  1.0000,  1.0000,  1.0000,  1.0000,\n",
      "         1.0000,  1.0000,  1.0000,  1.0000,  1.0000,  1.0000,  1.0000,  1.0000,  1.0000,  1.0000,  1.0000,  1.0000,  1.0000,  1.0000,\n",
      "         1.0000,  1.0000,  1.0000,  1.0000,  1.0000,  1.0000,  1.0000,  1.0000])\n"
     ]
    }
   ],
   "source": [
    "# Does it sum to 1?\n",
    "print(probabilities.sum(dim=1))"
   ]
  },
  {
   "cell_type": "markdown",
   "metadata": {},
   "source": [
    "## Building networks with PyTorch\n",
    "\n",
    "PyTorch provides a module `nn` that makes building networks much simpler. Here I'll show you how to build the same one as above with 784 inputs, 256 hidden units, 10 output units and a softmax output."
   ]
  },
  {
   "cell_type": "code",
   "execution_count": 47,
   "metadata": {},
   "outputs": [],
   "source": [
    "from torch import nn"
   ]
  },
  {
   "cell_type": "code",
   "execution_count": 48,
   "metadata": {},
   "outputs": [],
   "source": [
    "class Network(nn.Module):\n",
    "    def __init__(self):\n",
    "        super().__init__()\n",
    "        \n",
    "        # Inputs to hidden layer linear transformation\n",
    "        self.hidden = nn.Linear(784, 256)\n",
    "        # Output layer, 10 units - one for each digit\n",
    "        self.output = nn.Linear(256, 10)\n",
    "        \n",
    "        # Define sigmoid activation and softmax output \n",
    "        self.sigmoid = nn.Sigmoid()\n",
    "        self.softmax = nn.Softmax(dim=1)\n",
    "        \n",
    "    def forward(self, x):\n",
    "        # Pass the input tensor through each of our operations\n",
    "        x = self.hidden(x)\n",
    "        x = self.sigmoid(x)\n",
    "        x = self.output(x)\n",
    "        x = self.softmax(x)\n",
    "        \n",
    "        return x"
   ]
  },
  {
   "cell_type": "markdown",
   "metadata": {},
   "source": [
    "Let's go through this bit by bit.\n",
    "\n",
    "```python\n",
    "class Network(nn.Module):\n",
    "```\n",
    "\n",
    "Here we're inheriting from `nn.Module`. Combined with `super().__init__()` this creates a class that tracks the architecture and provides a lot of useful methods and attributes. It is mandatory to inherit from `nn.Module` when you're creating a class for your network. The name of the class itself can be anything.\n",
    "\n",
    "```python\n",
    "self.hidden = nn.Linear(784, 256)\n",
    "```\n",
    "\n",
    "This line creates a module for a linear transformation, $x\\mathbf{W} + b$, with 784 inputs and 256 outputs and assigns it to `self.hidden`. The module automatically creates the weight and bias tensors which we'll use in the `forward` method. You can access the weight and bias tensors once the network (`net`) is created with `net.hidden.weight` and `net.hidden.bias`.\n",
    "\n",
    "```python\n",
    "self.output = nn.Linear(256, 10)\n",
    "```\n",
    "\n",
    "Similarly, this creates another linear transformation with 256 inputs and 10 outputs.\n",
    "\n",
    "```python\n",
    "self.sigmoid = nn.Sigmoid()\n",
    "self.softmax = nn.Softmax(dim=1)\n",
    "```\n",
    "\n",
    "Here I defined operations for the sigmoid activation and softmax output. Setting `dim=1` in `nn.Softmax(dim=1)` calculates softmax across the columns.\n",
    "\n",
    "```python\n",
    "def forward(self, x):\n",
    "```\n",
    "\n",
    "PyTorch networks created with `nn.Module` must have a `forward` method defined. It takes in a tensor `x` and passes it through the operations you defined in the `__init__` method.\n",
    "\n",
    "```python\n",
    "x = self.hidden(x)\n",
    "x = self.sigmoid(x)\n",
    "x = self.output(x)\n",
    "x = self.softmax(x)\n",
    "```\n",
    "\n",
    "Here the input tensor `x` is passed through each operation a reassigned to `x`. We can see that the input tensor goes through the hidden layer, then a sigmoid function, then the output layer, and finally the softmax function. It doesn't matter what you name the variables here, as long as the inputs and outputs of the operations match the network architecture you want to build. The order in which you define things in the `__init__` method doesn't matter, but you'll need to sequence the operations correctly in the `forward` method.\n",
    "\n",
    "Now we can create a `Network` object."
   ]
  },
  {
   "cell_type": "code",
   "execution_count": 49,
   "metadata": {},
   "outputs": [
    {
     "data": {
      "text/plain": [
       "Network(\n",
       "  (hidden): Linear(in_features=784, out_features=256, bias=True)\n",
       "  (output): Linear(in_features=256, out_features=10, bias=True)\n",
       "  (sigmoid): Sigmoid()\n",
       "  (softmax): Softmax()\n",
       ")"
      ]
     },
     "execution_count": 49,
     "metadata": {},
     "output_type": "execute_result"
    }
   ],
   "source": [
    "# Create the network and look at it's text representation\n",
    "model = Network()\n",
    "model"
   ]
  },
  {
   "cell_type": "code",
   "execution_count": 63,
   "metadata": {},
   "outputs": [
    {
     "data": {
      "text/plain": [
       "<bound method Sequential.forward of Sequential(\n",
       "  (fc1): Linear(in_features=784, out_features=128, bias=True)\n",
       "  (relu1): ReLU()\n",
       "  (fc2): Linear(in_features=128, out_features=64, bias=True)\n",
       "  (relu2): ReLU()\n",
       "  (output): Linear(in_features=64, out_features=10, bias=True)\n",
       "  (softmax): Softmax()\n",
       ")>"
      ]
     },
     "execution_count": 63,
     "metadata": {},
     "output_type": "execute_result"
    }
   ],
   "source": [
    "model.forward"
   ]
  },
  {
   "cell_type": "markdown",
   "metadata": {},
   "source": [
    "You can define the network somewhat more concisely and clearly using the `torch.nn.functional` module. This is the most common way you'll see networks defined as many operations are simple element-wise functions. We normally import this module as `F`, `import torch.nn.functional as F`."
   ]
  },
  {
   "cell_type": "code",
   "execution_count": 50,
   "metadata": {},
   "outputs": [],
   "source": [
    "import torch.nn.functional as F\n",
    "\n",
    "class Network(nn.Module):\n",
    "    def __init__(self):\n",
    "        super().__init__()\n",
    "        # Inputs to hidden layer linear transformation\n",
    "        self.hidden = nn.Linear(784, 256)\n",
    "        # Output layer, 10 units - one for each digit\n",
    "        self.output = nn.Linear(256, 10)\n",
    "        \n",
    "    def forward(self, x):\n",
    "        # Hidden layer with sigmoid activation\n",
    "        x = F.sigmoid(self.hidden(x))\n",
    "        # Output layer with softmax activation\n",
    "        x = F.softmax(self.output(x), dim=1)\n",
    "        \n",
    "        return x"
   ]
  },
  {
   "cell_type": "markdown",
   "metadata": {},
   "source": [
    "### Activation functions\n",
    "\n",
    "So far we've only been looking at the softmax activation, but in general any function can be used as an activation function. The only requirement is that for a network to approximate a non-linear function, the activation functions must be non-linear. Here are a few more examples of common activation functions: Tanh (hyperbolic tangent), and ReLU (rectified linear unit).\n",
    "\n",
    "<img src=\"assets/activation.png\" width=700px>\n",
    "\n",
    "In practice, the ReLU function is used almost exclusively as the activation function for hidden layers."
   ]
  },
  {
   "cell_type": "markdown",
   "metadata": {},
   "source": [
    "### Your Turn to Build a Network\n",
    "\n",
    "<img src=\"assets/mlp_mnist.png\" width=600px>\n",
    "\n",
    "> **Exercise:** Create a network with 784 input units, a hidden layer with 128 units and a ReLU activation, then a hidden layer with 64 units and a ReLU activation, and finally an output layer with a softmax activation as shown above. You can use a ReLU activation with the `nn.ReLU` module or `F.relu` function."
   ]
  },
  {
   "cell_type": "code",
   "execution_count": 64,
   "metadata": {
    "scrolled": true
   },
   "outputs": [],
   "source": [
    "## Your nn.Module solution here\n",
    "class DeepNetMd(nn.Module):\n",
    "    def __init__(self):\n",
    "        super().__init__()\n",
    "        \n",
    "        # Inputs to L1 linear transformation\n",
    "        self.L1 = nn.Linear(784, 128)\n",
    "        # L1 to L2 linear transformation\n",
    "        self.L2 = nn.Linear(128, 64)\n",
    "        # L2 to L3 linear transformation, 10 units - one for each digit\n",
    "        self.L3 = nn.Linear(64, 10)\n",
    "        \n",
    "        # Define ReLu activation and softmax output \n",
    "        self.relu = nn.ReLU()\n",
    "        self.softmax = nn.Softmax(dim=1)\n",
    "        \n",
    "    def forward(self, x):\n",
    "        # Pass the input tensor through each of our operations\n",
    "        x = self.L1(x)\n",
    "        x = self.relu(x)\n",
    "        x = self.L2(x)\n",
    "        x = self.relu(x)\n",
    "        x = self.L3(x)\n",
    "        x = self.softmax(x)\n",
    "        \n",
    "        return x"
   ]
  },
  {
   "cell_type": "code",
   "execution_count": 65,
   "metadata": {},
   "outputs": [
    {
     "data": {
      "text/plain": [
       "DeepNetMd(\n",
       "  (L1): Linear(in_features=784, out_features=128, bias=True)\n",
       "  (L2): Linear(in_features=128, out_features=64, bias=True)\n",
       "  (L3): Linear(in_features=64, out_features=10, bias=True)\n",
       "  (relu): ReLU()\n",
       "  (softmax): Softmax()\n",
       ")"
      ]
     },
     "execution_count": 65,
     "metadata": {},
     "output_type": "execute_result"
    }
   ],
   "source": [
    "# Create the network from nn.Module and look at it's text representation\n",
    "model = DeepNetMd()\n",
    "model"
   ]
  },
  {
   "cell_type": "code",
   "execution_count": 66,
   "metadata": {},
   "outputs": [
    {
     "data": {
      "text/plain": [
       "<bound method DeepNetMd.forward of DeepNetMd(\n",
       "  (L1): Linear(in_features=784, out_features=128, bias=True)\n",
       "  (L2): Linear(in_features=128, out_features=64, bias=True)\n",
       "  (L3): Linear(in_features=64, out_features=10, bias=True)\n",
       "  (relu): ReLU()\n",
       "  (softmax): Softmax()\n",
       ")>"
      ]
     },
     "execution_count": 66,
     "metadata": {},
     "output_type": "execute_result"
    }
   ],
   "source": [
    "model.forward"
   ]
  },
  {
   "cell_type": "code",
   "execution_count": 70,
   "metadata": {},
   "outputs": [],
   "source": [
    "import torch.nn.functional as F\n",
    "\n",
    "class DeepNetFc(nn.Module):\n",
    "    def __init__(self):\n",
    "        super().__init__()\n",
    "        \n",
    "        # Inputs to L1 linear transformation\n",
    "        self.L1 = nn.Linear(784, 128)\n",
    "        # L1 to L2 linear transformation\n",
    "        self.L2 = nn.Linear(128, 64)\n",
    "        # L2 to L3 linear transformation, 10 units - one for each digit\n",
    "        self.L3 = nn.Linear(64, 10)\n",
    "        \n",
    "    def forward(self, x):\n",
    "        \n",
    "        # Pass the input tensor through L1, L2 layer functions and operations\n",
    "        x = F.ReLU(self.L1(x))\n",
    "        x = F.ReLU(self.L2(x))\n",
    "        # L3 layer with softmax activation\n",
    "        x = F.softmax(self.output(x), dim=1)\n",
    "        \n",
    "        return x"
   ]
  },
  {
   "cell_type": "code",
   "execution_count": 71,
   "metadata": {},
   "outputs": [
    {
     "data": {
      "text/plain": [
       "DeepNetFc(\n",
       "  (L1): Linear(in_features=784, out_features=128, bias=True)\n",
       "  (L2): Linear(in_features=128, out_features=64, bias=True)\n",
       "  (L3): Linear(in_features=64, out_features=10, bias=True)\n",
       ")"
      ]
     },
     "execution_count": 71,
     "metadata": {},
     "output_type": "execute_result"
    }
   ],
   "source": [
    "# Create the network from nn.functional and look at it's text representation\n",
    "model = DeepNetFc()\n",
    "model"
   ]
  },
  {
   "cell_type": "markdown",
   "metadata": {},
   "source": [
    "model.forward"
   ]
  },
  {
   "cell_type": "code",
   "execution_count": 89,
   "metadata": {},
   "outputs": [],
   "source": [
    "model = DeepNetMd()"
   ]
  },
  {
   "cell_type": "markdown",
   "metadata": {},
   "source": [
    "### Initializing weights and biases\n",
    "\n",
    "The weights and such are automatically initialized for you, but it's possible to customize how they are initialized. The weights and biases are tensors attached to the layer you defined, you can get them with `model.fc1.weight` for instance."
   ]
  },
  {
   "cell_type": "code",
   "execution_count": 90,
   "metadata": {},
   "outputs": [
    {
     "name": "stdout",
     "output_type": "stream",
     "text": [
      "Parameter containing:\n",
      "tensor([[-1.4963e-03,  1.6244e-03, -1.4362e-02,  ..., -2.3614e-02,  1.4499e-02,  5.2304e-03],\n",
      "        [ 5.9905e-03,  3.2698e-02,  8.4533e-03,  ..., -3.6062e-03,  1.0894e-03, -1.3744e-02],\n",
      "        [-7.4491e-04, -1.0717e-03,  1.2655e-02,  ...,  1.5468e-02, -3.2200e-02,  2.3163e-02],\n",
      "        ...,\n",
      "        [ 2.4588e-02, -2.7730e-02,  1.4388e-02,  ...,  1.8479e-02,  4.9520e-03, -1.1383e-02],\n",
      "        [ 1.3799e-02,  7.8059e-03, -3.3826e-02,  ..., -2.9517e-02, -8.4155e-03,  2.2104e-02],\n",
      "        [-1.9945e-02, -1.2027e-02, -1.4803e-02,  ...,  7.7942e-03, -2.7414e-02,  2.3687e-02]])\n",
      "Parameter containing:\n",
      "tensor(1.00000e-02 *\n",
      "       [ 1.1059, -2.0656,  0.1803,  1.6740, -2.4039,  3.4749,  1.2809, -0.1316,  2.9470,  1.8018, -0.8438, -1.7260,  3.3686,  3.1802,\n",
      "         1.5815, -2.1099, -2.5898,  1.2440, -0.6567,  3.4331,  2.4890, -0.0933,  0.6939,  2.0653,  0.0521,  0.3200, -0.4148, -1.9996,\n",
      "         0.9045,  3.5456, -0.9874,  3.5559, -1.8170, -0.9681, -1.6025,  0.3830,  3.0574, -2.5581,  0.3509, -2.6010,  3.2478,  3.1759,\n",
      "        -1.9093,  3.4119, -2.0433,  3.0024, -1.6876, -2.3336,  0.2093, -3.5198,  2.1588,  3.1505, -2.3355,  3.3182,  2.5609, -2.2832,\n",
      "        -0.3959, -1.6455, -0.0512, -0.9759,  3.2357, -1.8521, -2.9859,  2.6450, -0.2855,  3.3623,  2.7633,  1.9070,  3.1815, -1.9104,\n",
      "        -2.9711,  1.3409,  1.0570,  0.7264, -0.2431, -0.9000,  0.5738,  2.5026,  3.5396, -2.0765,  1.8486, -0.0470, -0.5230, -1.2718,\n",
      "        -2.6650, -1.1625, -3.1879,  0.0042, -1.2227, -3.0160,  0.6187, -1.1595, -1.6499,  2.4388, -2.6971,  2.6139,  0.2661,  2.6167,\n",
      "         3.1686,  2.1843, -3.5354,  3.1007, -1.4391, -0.3160,  3.3307, -0.9108, -0.4583, -3.2642,  3.5344, -0.5134, -1.1259,  0.4094,\n",
      "        -1.3724, -1.0558, -3.4286,  3.3822, -2.5336, -0.1266,  0.7900,  2.5317,  0.9117, -2.7509, -1.2495,  2.1227,  0.4314,  0.5543,\n",
      "        -2.1616, -0.5115])\n"
     ]
    }
   ],
   "source": [
    "print(model.L1.weight)\n",
    "print(model.L1.bias)"
   ]
  },
  {
   "cell_type": "markdown",
   "metadata": {},
   "source": [
    "For custom initialization, we want to modify these tensors in place. These are actually autograd *Variables*, so we need to get back the actual tensors with `model.fc1.weight.data`. Once we have the tensors, we can fill them with zeros (for biases) or random normal values."
   ]
  },
  {
   "cell_type": "code",
   "execution_count": 91,
   "metadata": {},
   "outputs": [
    {
     "data": {
      "text/plain": [
       "tensor([[-1.4963e-03,  1.6244e-03, -1.4362e-02,  ..., -2.3614e-02,  1.4499e-02,  5.2304e-03],\n",
       "        [ 5.9905e-03,  3.2698e-02,  8.4533e-03,  ..., -3.6062e-03,  1.0894e-03, -1.3744e-02],\n",
       "        [-7.4491e-04, -1.0717e-03,  1.2655e-02,  ...,  1.5468e-02, -3.2200e-02,  2.3163e-02],\n",
       "        ...,\n",
       "        [ 2.4588e-02, -2.7730e-02,  1.4388e-02,  ...,  1.8479e-02,  4.9520e-03, -1.1383e-02],\n",
       "        [ 1.3799e-02,  7.8059e-03, -3.3826e-02,  ..., -2.9517e-02, -8.4155e-03,  2.2104e-02],\n",
       "        [-1.9945e-02, -1.2027e-02, -1.4803e-02,  ...,  7.7942e-03, -2.7414e-02,  2.3687e-02]])"
      ]
     },
     "execution_count": 91,
     "metadata": {},
     "output_type": "execute_result"
    }
   ],
   "source": [
    "model.L1.weight.data"
   ]
  },
  {
   "cell_type": "code",
   "execution_count": 92,
   "metadata": {},
   "outputs": [
    {
     "data": {
      "text/plain": [
       "tensor(1.00000e-02 *\n",
       "       [ 1.1059, -2.0656,  0.1803,  1.6740, -2.4039,  3.4749,  1.2809, -0.1316,  2.9470,  1.8018, -0.8438, -1.7260,  3.3686,  3.1802,\n",
       "         1.5815, -2.1099, -2.5898,  1.2440, -0.6567,  3.4331,  2.4890, -0.0933,  0.6939,  2.0653,  0.0521,  0.3200, -0.4148, -1.9996,\n",
       "         0.9045,  3.5456, -0.9874,  3.5559, -1.8170, -0.9681, -1.6025,  0.3830,  3.0574, -2.5581,  0.3509, -2.6010,  3.2478,  3.1759,\n",
       "        -1.9093,  3.4119, -2.0433,  3.0024, -1.6876, -2.3336,  0.2093, -3.5198,  2.1588,  3.1505, -2.3355,  3.3182,  2.5609, -2.2832,\n",
       "        -0.3959, -1.6455, -0.0512, -0.9759,  3.2357, -1.8521, -2.9859,  2.6450, -0.2855,  3.3623,  2.7633,  1.9070,  3.1815, -1.9104,\n",
       "        -2.9711,  1.3409,  1.0570,  0.7264, -0.2431, -0.9000,  0.5738,  2.5026,  3.5396, -2.0765,  1.8486, -0.0470, -0.5230, -1.2718,\n",
       "        -2.6650, -1.1625, -3.1879,  0.0042, -1.2227, -3.0160,  0.6187, -1.1595, -1.6499,  2.4388, -2.6971,  2.6139,  0.2661,  2.6167,\n",
       "         3.1686,  2.1843, -3.5354,  3.1007, -1.4391, -0.3160,  3.3307, -0.9108, -0.4583, -3.2642,  3.5344, -0.5134, -1.1259,  0.4094,\n",
       "        -1.3724, -1.0558, -3.4286,  3.3822, -2.5336, -0.1266,  0.7900,  2.5317,  0.9117, -2.7509, -1.2495,  2.1227,  0.4314,  0.5543,\n",
       "        -2.1616, -0.5115])"
      ]
     },
     "execution_count": 92,
     "metadata": {},
     "output_type": "execute_result"
    }
   ],
   "source": [
    "model.L1.bias.data"
   ]
  },
  {
   "cell_type": "code",
   "execution_count": 93,
   "metadata": {},
   "outputs": [
    {
     "data": {
      "text/plain": [
       "tensor([ 0.,  0.,  0.,  0.,  0.,  0.,  0.,  0.,  0.,  0.,  0.,  0.,  0.,  0.,  0.,  0.,  0.,  0.,  0.,  0.,  0.,  0.,  0.,  0.,\n",
       "         0.,  0.,  0.,  0.,  0.,  0.,  0.,  0.,  0.,  0.,  0.,  0.,  0.,  0.,  0.,  0.,  0.,  0.,  0.,  0.,  0.,  0.,  0.,  0.,\n",
       "         0.,  0.,  0.,  0.,  0.,  0.,  0.,  0.,  0.,  0.,  0.,  0.,  0.,  0.,  0.,  0.,  0.,  0.,  0.,  0.,  0.,  0.,  0.,  0.,\n",
       "         0.,  0.,  0.,  0.,  0.,  0.,  0.,  0.,  0.,  0.,  0.,  0.,  0.,  0.,  0.,  0.,  0.,  0.,  0.,  0.,  0.,  0.,  0.,  0.,\n",
       "         0.,  0.,  0.,  0.,  0.,  0.,  0.,  0.,  0.,  0.,  0.,  0.,  0.,  0.,  0.,  0.,  0.,  0.,  0.,  0.,  0.,  0.,  0.,  0.,\n",
       "         0.,  0.,  0.,  0.,  0.,  0.,  0.,  0.])"
      ]
     },
     "execution_count": 93,
     "metadata": {},
     "output_type": "execute_result"
    }
   ],
   "source": [
    "# Set biases to all zeros\n",
    "model.L1.bias.data.fill_(0)"
   ]
  },
  {
   "cell_type": "code",
   "execution_count": 94,
   "metadata": {
    "scrolled": true
   },
   "outputs": [
    {
     "data": {
      "text/plain": [
       "tensor([[ 1.8290e-03, -2.2099e-02, -3.0341e-03,  ..., -7.7784e-03,  4.4085e-03, -1.7711e-02],\n",
       "        [ 2.8671e-03, -1.0221e-02, -1.2898e-02,  ...,  1.5733e-03,  1.3308e-02, -2.7888e-03],\n",
       "        [ 8.2442e-03, -2.2314e-03, -1.7064e-02,  ...,  3.8035e-03,  7.0480e-03, -2.6758e-03],\n",
       "        ...,\n",
       "        [-4.4761e-03,  5.2223e-03,  1.1507e-02,  ...,  9.7441e-03,  8.4816e-03,  3.8820e-03],\n",
       "        [-8.2056e-03, -1.6594e-02,  4.9097e-03,  ..., -7.8272e-03, -6.5956e-03, -1.1573e-02],\n",
       "        [ 1.0584e-02,  3.3536e-03, -1.0561e-02,  ...,  1.2940e-03, -4.1209e-03, -9.7305e-03]])"
      ]
     },
     "execution_count": 94,
     "metadata": {},
     "output_type": "execute_result"
    }
   ],
   "source": [
    "# sample from random normal with standard dev = 0.01\n",
    "model.L1.weight.data.normal_(std=0.01)"
   ]
  },
  {
   "cell_type": "markdown",
   "metadata": {},
   "source": [
    "### Forward pass\n",
    "\n",
    "Now that we have a network, let's see what happens when we pass in an image."
   ]
  },
  {
   "cell_type": "code",
   "execution_count": 95,
   "metadata": {},
   "outputs": [
    {
     "data": {
      "image/png": "[encoded data removed]",
      "text/plain": [
       "<matplotlib.figure.Figure at 0x7fd5d154c6a0>"
      ]
     },
     "metadata": {
      "image/png": {
       "height": 224,
       "width": 423
      },
      "needs_background": "light"
     },
     "output_type": "display_data"
    }
   ],
   "source": [
    "# Grab some data \n",
    "dataiter = iter(trainloader)\n",
    "images, labels = dataiter.next()\n",
    "\n",
    "# Resize images into a 1D vector, new shape is (batch size, color channels, image pixels) \n",
    "images.resize_(64, 1, 784)\n",
    "# or images.resize_(images.shape[0], 1, 784) to automatically get batch size\n",
    "\n",
    "# Forward pass through the network\n",
    "img_idx = 0\n",
    "ps = model.forward(images[img_idx,:])\n",
    "\n",
    "img = images[img_idx]\n",
    "helper.view_classify(img.view(1, 28, 28), ps)"
   ]
  },
  {
   "cell_type": "markdown",
   "metadata": {},
   "source": [
    "As you can see above, our network has basically no idea what this digit is. It's because we haven't trained it yet, all the weights are random!\n",
    "\n",
    "### Using `nn.Sequential`\n",
    "\n",
    "PyTorch provides a convenient way to build networks like this where a tensor is passed sequentially through operations, `nn.Sequential` ([documentation](https://pytorch.org/docs/master/nn.html#torch.nn.Sequential)). Using this to build the equivalent network:"
   ]
  },
  {
   "cell_type": "code",
   "execution_count": 96,
   "metadata": {},
   "outputs": [
    {
     "name": "stdout",
     "output_type": "stream",
     "text": [
      "Sequential(\n",
      "  (0): Linear(in_features=784, out_features=128, bias=True)\n",
      "  (1): ReLU()\n",
      "  (2): Linear(in_features=128, out_features=64, bias=True)\n",
      "  (3): ReLU()\n",
      "  (4): Linear(in_features=64, out_features=10, bias=True)\n",
      "  (5): Softmax()\n",
      ")\n"
     ]
    },
    {
     "data": {
      "image/png": "[encoded data removed]",
      "text/plain": [
       "<matplotlib.figure.Figure at 0x7fd5d7ce1c18>"
      ]
     },
     "metadata": {
      "image/png": {
       "height": 224,
       "width": 423
      },
      "needs_background": "light"
     },
     "output_type": "display_data"
    }
   ],
   "source": [
    "# Hyperparameters for our network\n",
    "input_size = 784\n",
    "hidden_sizes = [128, 64]\n",
    "output_size = 10\n",
    "\n",
    "# Build a feed-forward network\n",
    "model = nn.Sequential(nn.Linear(input_size, hidden_sizes[0]),\n",
    "                      nn.ReLU(),\n",
    "                      nn.Linear(hidden_sizes[0], hidden_sizes[1]),\n",
    "                      nn.ReLU(),\n",
    "                      nn.Linear(hidden_sizes[1], output_size),\n",
    "                      nn.Softmax(dim=1))\n",
    "print(model)\n",
    "\n",
    "# Forward pass through the network and display output\n",
    "images, labels = next(iter(trainloader))\n",
    "images.resize_(images.shape[0], 1, 784)\n",
    "ps = model.forward(images[0,:])\n",
    "helper.view_classify(images[0].view(1, 28, 28), ps)"
   ]
  },
  {
   "cell_type": "markdown",
   "metadata": {},
   "source": [
    "Here our model is the same as before: 784 input units, a hidden layer with 128 units, ReLU activation, 64 unit hidden layer, another ReLU, then the output layer with 10 units, and the softmax output.\n",
    "\n",
    "The operations are availble by passing in the appropriate index. For example, if you want to get first Linear operation and look at the weights, you'd use `model[0]`."
   ]
  },
  {
   "cell_type": "code",
   "execution_count": 97,
   "metadata": {},
   "outputs": [
    {
     "name": "stdout",
     "output_type": "stream",
     "text": [
      "Linear(in_features=784, out_features=128, bias=True)\n"
     ]
    },
    {
     "data": {
      "text/plain": [
       "Parameter containing:\n",
       "tensor([[ 8.4039e-03,  6.6582e-04,  2.4638e-02,  ..., -3.0853e-02, -1.5333e-02, -2.3479e-02],\n",
       "        [-1.3907e-02, -1.1653e-02,  1.9453e-02,  ..., -2.5081e-02,  3.4849e-03, -2.0947e-02],\n",
       "        [-3.5657e-02, -4.8512e-03,  2.6018e-02,  ..., -1.9573e-02,  1.7771e-02, -2.6657e-02],\n",
       "        ...,\n",
       "        [ 3.3282e-02, -2.8944e-02, -2.1032e-02,  ..., -1.2686e-02, -6.2691e-03, -8.9790e-03],\n",
       "        [-3.1276e-03, -1.9420e-02, -7.8328e-03,  ..., -7.2554e-03,  2.8942e-03, -2.7594e-02],\n",
       "        [ 1.5576e-02,  1.5008e-02,  6.2572e-03,  ..., -2.9804e-02,  2.6406e-02,  4.9101e-03]])"
      ]
     },
     "execution_count": 97,
     "metadata": {},
     "output_type": "execute_result"
    }
   ],
   "source": [
    "print(model[0])\n",
    "model[0].weight"
   ]
  },
  {
   "cell_type": "markdown",
   "metadata": {},
   "source": [
    "You can also pass in an `OrderedDict` to name the individual layers and operations, instead of using incremental integers. Note that dictionary keys must be unique, so _each operation must have a different name_."
   ]
  },
  {
   "cell_type": "code",
   "execution_count": 98,
   "metadata": {},
   "outputs": [
    {
     "data": {
      "text/plain": [
       "Sequential(\n",
       "  (fc1): Linear(in_features=784, out_features=128, bias=True)\n",
       "  (relu1): ReLU()\n",
       "  (fc2): Linear(in_features=128, out_features=64, bias=True)\n",
       "  (relu2): ReLU()\n",
       "  (output): Linear(in_features=64, out_features=10, bias=True)\n",
       "  (softmax): Softmax()\n",
       ")"
      ]
     },
     "execution_count": 98,
     "metadata": {},
     "output_type": "execute_result"
    }
   ],
   "source": [
    "from collections import OrderedDict\n",
    "model = nn.Sequential(OrderedDict([\n",
    "                      ('fc1', nn.Linear(input_size, hidden_sizes[0])),\n",
    "                      ('relu1', nn.ReLU()),\n",
    "                      ('fc2', nn.Linear(hidden_sizes[0], hidden_sizes[1])),\n",
    "                      ('relu2', nn.ReLU()),\n",
    "                      ('output', nn.Linear(hidden_sizes[1], output_size)),\n",
    "                      ('softmax', nn.Softmax(dim=1))]))\n",
    "model"
   ]
  },
  {
   "cell_type": "markdown",
   "metadata": {},
   "source": [
    "Now you can access layers either by integer or the name"
   ]
  },
  {
   "cell_type": "code",
   "execution_count": 99,
   "metadata": {},
   "outputs": [
    {
     "name": "stdout",
     "output_type": "stream",
     "text": [
      "Linear(in_features=784, out_features=128, bias=True)\n",
      "Linear(in_features=784, out_features=128, bias=True)\n"
     ]
    }
   ],
   "source": [
    "print(model[0])\n",
    "print(model.fc1)"
   ]
  },
  {
   "cell_type": "markdown",
   "metadata": {},
   "source": [
    "In the next notebook, we'll see how we can train a neural network to accuractly predict the numbers appearing in the MNIST images."
   ]
  }
 ],
 "metadata": {
  "kernelspec": {
   "display_name": "Python 3",
   "language": "python",
   "name": "python3"
  },
  "language_info": {
   "codemirror_mode": {
    "name": "ipython",
    "version": 3
   },
   "file_extension": ".py",
   "mimetype": "text/x-python",
   "name": "python",
   "nbconvert_exporter": "python",
   "pygments_lexer": "ipython3",
   "version": "3.6.3"
  }
 },
 "nbformat": 4,
 "nbformat_minor": 2
}
